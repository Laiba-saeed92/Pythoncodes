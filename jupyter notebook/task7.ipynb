{
 "cells": [
  {
   "cell_type": "raw",
   "id": "9410a6a7-f30b-4ef1-b0d7-3e55d00c53e9",
   "metadata": {},
   "source": [
    "#structured data(using pandas)\n",
    "import pandas as pd\n",
    "structured_data=pd.DataFrame({\n",
    "    'I':[1,2,3,4],\n",
    "    'name': ['alice', 'bob', 'charlie', 'david'],\n",
    "    'age':[25,44,12,35],\n",
    "    'salary':[50000,6000,12000,5500]\n",
    "})\n",
    "print(\"structured_data:\\n\", structured_data)\n",
    "    "
   ]
  },
  {
   "cell_type": "code",
   "execution_count": 8,
   "id": "42142038-4258-4244-a11a-936af26eb589",
   "metadata": {},
   "outputs": [
    {
     "name": "stdout",
     "output_type": "stream",
     "text": [
      "mean height: 43.875\n",
      "total students: 211\n"
     ]
    }
   ],
   "source": [
    "import numpy as np\n",
    "heights=np.array([12.5,18.5,89.0,55.5])\n",
    "students=np.array([25,45,66,75])\n",
    "print('mean height:', np.mean(heights))\n",
    "print('total students:', np.sum(students))"
   ]
  },
  {
   "cell_type": "code",
   "execution_count": 13,
   "id": "89e06387-a45d-4125-9bd7-a81a2f17dc07",
   "metadata": {},
   "outputs": [
    {
     "name": "stdout",
     "output_type": "stream",
     "text": [
      "    color      rating  binary\n",
      "0     red        good       1\n",
      "1   green  execellent       0\n",
      "2    blue        poor       1\n",
      "3  yellow     average       0\n",
      "4     red        good       1\n",
      "ordinal encoding for rating:\n",
      " 0    2\n",
      "1    3\n",
      "2    0\n",
      "3    1\n",
      "4    2\n",
      "dtype: int8\n"
     ]
    }
   ],
   "source": [
    "#quantitative data\n",
    "data={\n",
    "    'color': ['red', 'green','blue', 'yellow','red'],\n",
    "    'rating':['good','execellent', 'poor', 'average', 'good'],\n",
    "    'binary':[1,0,1,0,1]\n",
    "              }\n",
    "df=pd.DataFrame(data)\n",
    "df['rating']=pd.Categorical(df['rating'], categories=['poor', 'average', 'good', 'execellent'], ordered =True)\n",
    "print(df)\n",
    "print('ordinal encoding for rating:\\n', df['rating'].cat.codes)\n",
    "    "
   ]
  },
  {
   "cell_type": "code",
   "execution_count": 14,
   "id": "4b9333cd-ffe7-4f55-905f-6fc321d6fb32",
   "metadata": {},
   "outputs": [
    {
     "name": "stdout",
     "output_type": "stream",
     "text": [
      "mean 30.0\n"
     ]
    }
   ],
   "source": [
    "#sample dataset\n",
    "data_mean= [10,20,30,40,50]\n",
    "#calculating mean\n",
    "mean_value=  sum(data_mean)/ len(data_mean)\n",
    "print('mean', mean_value)"
   ]
  },
  {
   "cell_type": "code",
   "execution_count": 17,
   "id": "2744abc7-acdf-4eb9-a8d9-8491f0a6885b",
   "metadata": {},
   "outputs": [
    {
     "name": "stdout",
     "output_type": "stream",
     "text": [
      "median (odd_count): 15.0\n",
      "median(even count: 10.5\n"
     ]
    }
   ],
   "source": [
    "import numpy as np\n",
    "data_median_odd=[5,10,15,20,25]\n",
    "median_odd=np.median(data_median_odd)\n",
    "print('median (odd_count):', median_odd)\n",
    "#even count dataset\n",
    "data_median_even=[3,6,9,12,15,18]\n",
    "median_even=np.median(data_median_even)\n",
    "print('median(even count:', median_even)"
   ]
  },
  {
   "cell_type": "code",
   "execution_count": 19,
   "id": "b4e15276-5e23-4e10-8b49-06b7875181e8",
   "metadata": {},
   "outputs": [
    {
     "name": "stdout",
     "output_type": "stream",
     "text": [
      "mode: [8, 12]\n"
     ]
    }
   ],
   "source": [
    "#mode\n",
    "import statistics\n",
    "data_mode=[7,8,8,12,12,15,16]\n",
    "mode_values= statistics.multimode(data_mode)\n",
    "print('mode:', mode_values)"
   ]
  },
  {
   "cell_type": "code",
   "execution_count": null,
   "id": "0876e5dd-2855-49d0-b749-885fd45d17ed",
   "metadata": {},
   "outputs": [],
   "source": [
    "#"
   ]
  }
 ],
 "metadata": {
  "kernelspec": {
   "display_name": "Python 3 (ipykernel)",
   "language": "python",
   "name": "python3"
  },
  "language_info": {
   "codemirror_mode": {
    "name": "ipython",
    "version": 3
   },
   "file_extension": ".py",
   "mimetype": "text/x-python",
   "name": "python",
   "nbconvert_exporter": "python",
   "pygments_lexer": "ipython3",
   "version": "3.11.4"
  }
 },
 "nbformat": 4,
 "nbformat_minor": 5
}
