{
 "cells": [
  {
   "cell_type": "code",
   "execution_count": 1,
   "id": "b1a503f7-3e2b-4427-908d-7178639a525b",
   "metadata": {},
   "outputs": [],
   "source": [
    "# list\n",
    "#list are for modifiable data\n",
    "fruits=['apple', 'banana', 'gauva']\n",
    "numbers=[1,2,3,4,5]\n",
    "#lists are mutatable, can dublicate , they are in order can be accessed through index, multiple datatypes(string, int, float), lists can have list"
   ]
  },
  {
   "cell_type": "code",
   "execution_count": 12,
   "id": "c87a4c25-c44c-4c20-81b4-5cefbfd4d062",
   "metadata": {},
   "outputs": [
    {
     "name": "stdout",
     "output_type": "stream",
     "text": [
      "['mango', 'mango', 'gauva']\n",
      "[1, 2, 3, 4, 5]\n"
     ]
    }
   ],
   "source": [
    "print(fruits)\n",
    "print(numbers)"
   ]
  },
  {
   "cell_type": "code",
   "execution_count": 5,
   "id": "762c9aa1-19d2-4276-b5db-fc39589db222",
   "metadata": {},
   "outputs": [
    {
     "name": "stdout",
     "output_type": "stream",
     "text": [
      "apple\n",
      "gauva\n",
      "['apple', 'banana']\n"
     ]
    }
   ],
   "source": [
    "print(fruits[0])\n",
    "print(fruits[-1]) #start from last means this will be the last item\n",
    "print(fruits[0:2]) #doesnot include the last one 0,1 indexes will be printed"
   ]
  },
  {
   "cell_type": "code",
   "execution_count": 14,
   "id": "2baaf38e-f0bc-4986-aae0-192ff3699a09",
   "metadata": {},
   "outputs": [
    {
     "name": "stdout",
     "output_type": "stream",
     "text": [
      "[2, 3, 5, 7, 8, 9, 12]\n"
     ]
    }
   ],
   "source": [
    "fruits[0]= 'mango'\n",
    "numbers=[2,5,7,3,8,9,12]\n",
    "numbers.sort()\n",
    "print(numbers)"
   ]
  },
  {
   "cell_type": "code",
   "execution_count": 15,
   "id": "a0c82774-703d-463a-8894-feb8c8a6b7c7",
   "metadata": {},
   "outputs": [
    {
     "name": "stdout",
     "output_type": "stream",
     "text": [
      "[0, 1, 4, 9, 16]\n"
     ]
    }
   ],
   "source": [
    "#list comphrehension\n",
    "squares=[x**2 for x in range(5)] #double steric for square and single for multiplication\n",
    "print(squares)"
   ]
  },
  {
   "cell_type": "code",
   "execution_count": 21,
   "id": "55971027-e106-43e4-afb6-640908fb3b94",
   "metadata": {},
   "outputs": [
    {
     "name": "stdout",
     "output_type": "stream",
     "text": [
      "3\n",
      "<class 'list'>\n"
     ]
    }
   ],
   "source": [
    "Thislist=['apple', 'mango', 'banana']\n",
    "print(len(Thislist))\n",
    "print(type(Thislist))\n"
   ]
  },
  {
   "cell_type": "code",
   "execution_count": 22,
   "id": "20a86029-b2c7-44d2-ab94-dd690b0c15ea",
   "metadata": {},
   "outputs": [
    {
     "name": "stdout",
     "output_type": "stream",
     "text": [
      "yes, it is present\n"
     ]
    }
   ],
   "source": [
    "Thislist=['apple', 'banana', 'mango']\n",
    "if 'apple' in Thislist:\n",
    "    print('yes, it is present')"
   ]
  },
  {
   "cell_type": "code",
   "execution_count": null,
   "id": "a1dd20f5-bd84-475b-b4fd-857f4a87cabd",
   "metadata": {},
   "outputs": [],
   "source": [
    "Thislist=['apple', 'banana', 'mango']\n"
   ]
  },
  {
   "cell_type": "code",
   "execution_count": 23,
   "id": "34e23e0c-2d52-499a-ab65-390ba54a173f",
   "metadata": {},
   "outputs": [
    {
     "name": "stdout",
     "output_type": "stream",
     "text": [
      "[4, 8, 12, 16, 20]\n"
     ]
    }
   ],
   "source": [
    "list=[4,8,12,16,20]\n",
    "list.sort\n",
    "print(list)"
   ]
  },
  {
   "cell_type": "code",
   "execution_count": 25,
   "id": "2e351c60-42f7-4316-a008-b9e342a38422",
   "metadata": {},
   "outputs": [
    {
     "name": "stdout",
     "output_type": "stream",
     "text": [
      "[16]\n",
      "16\n"
     ]
    }
   ],
   "source": [
    "print(list[3:4])\n",
    "print(list[-2])"
   ]
  },
  {
   "cell_type": "code",
   "execution_count": 23,
   "id": "e4ead7f4-528f-4224-92d7-db174669bb82",
   "metadata": {},
   "outputs": [
    {
     "name": "stdout",
     "output_type": "stream",
     "text": [
      "cherry\n",
      "['apple', 'banana', 'cherry', 'kiwi', 'mango']\n",
      "['apple', 'banana', 'cherry', 'mango']\n",
      "['banana', 'cherry', 'mango']\n",
      "['banana', 'avacado', 'cherry', 'mango']\n",
      "['banana', 'avacado', 'cherry', 'mango', 5]\n",
      "['banana', 'avacado', 'cherry', 'mango', 5, 'mango', 'date', 'gauva']\n"
     ]
    },
    {
     "ename": "TypeError",
     "evalue": "'<' not supported between instances of 'int' and 'str'",
     "output_type": "error",
     "traceback": [
      "\u001b[31m---------------------------------------------------------------------------\u001b[39m",
      "\u001b[31mTypeError\u001b[39m                                 Traceback (most recent call last)",
      "\u001b[36mCell\u001b[39m\u001b[36m \u001b[39m\u001b[32mIn[23]\u001b[39m\u001b[32m, line 17\u001b[39m\n\u001b[32m     15\u001b[39m fruits.extend([\u001b[33m'\u001b[39m\u001b[33mmango\u001b[39m\u001b[33m'\u001b[39m,\u001b[33m'\u001b[39m\u001b[33mdate\u001b[39m\u001b[33m'\u001b[39m, \u001b[33m'\u001b[39m\u001b[33mgauva\u001b[39m\u001b[33m'\u001b[39m]) \n\u001b[32m     16\u001b[39m \u001b[38;5;28mprint\u001b[39m(fruits)\n\u001b[32m---> \u001b[39m\u001b[32m17\u001b[39m \u001b[43mfruits\u001b[49m\u001b[43m.\u001b[49m\u001b[43msort\u001b[49m\u001b[43m(\u001b[49m\u001b[43m)\u001b[49m\n\u001b[32m     18\u001b[39m \u001b[38;5;28mprint\u001b[39m(fruits)\n",
      "\u001b[31mTypeError\u001b[39m: '<' not supported between instances of 'int' and 'str'"
     ]
    }
   ],
   "source": [
    "#adding items\n",
    "fruits=['apple', 'banana','cherry', 'kiwi']\n",
    "print(fruits[2])\n",
    "fruits.append('mango') #append will add item at the end of the list\n",
    "print(fruits)\n",
    "#removing items\n",
    "fruits.remove('kiwi')\n",
    "print(fruits)\n",
    "fruits.pop(0)\n",
    "print(fruits)\n",
    "fruits.insert(1, 'avacado')\n",
    "print(fruits)\n",
    "fruits.append(5) #append will add item at the end of the list\n",
    "print(fruits)\n",
    "fruits.extend(['mango','date', 'gauva']) \n",
    "print(fruits)\n",
    "\n"
   ]
  },
  {
   "cell_type": "code",
   "execution_count": 27,
   "id": "86c43f75-5f7a-4096-8fd7-4c5145447b15",
   "metadata": {},
   "outputs": [
    {
     "name": "stdout",
     "output_type": "stream",
     "text": [
      "[2, 3]\n",
      "[1, 2, 3, 5, 6]\n",
      "[3, 5, 6, 7]\n",
      "[1, 2, 3]\n",
      "[1, 2, 3, 5, 6, 7]\n",
      "[7, 6, 5, 3, 2, 1]\n",
      "6\n"
     ]
    }
   ],
   "source": [
    "#list slicing\n",
    "numbers=[1,2,3,5,6,7]\n",
    "print(numbers[1:3])\n",
    "print(numbers[:5])\n",
    "print(numbers[2:])\n",
    "print(numbers[-6:-3])\n",
    "numbers.sort()\n",
    "print(numbers)\n",
    "numbers.reverse()\n",
    "print(numbers)\n",
    "print(len(numbers))\n",
    "\n"
   ]
  },
  {
   "cell_type": "code",
   "execution_count": 28,
   "id": "76e8b2a0-3ec0-4d02-ad7c-0a41112688dd",
   "metadata": {},
   "outputs": [
    {
     "name": "stdout",
     "output_type": "stream",
     "text": [
      "[1, 2, 3, 4, 5, 6]\n"
     ]
    }
   ],
   "source": [
    "#concatenantion\n",
    "numbers=[1,2,3] +[4,5,6]\n",
    "print(numbers)"
   ]
  },
  {
   "cell_type": "code",
   "execution_count": null,
   "id": "99f60281-9067-4d59-a115-bafe6e4fb5d4",
   "metadata": {},
   "outputs": [],
   "source": []
  }
 ],
 "metadata": {
  "kernelspec": {
   "display_name": "Python 3 (ipykernel)",
   "language": "python",
   "name": "python3"
  },
  "language_info": {
   "codemirror_mode": {
    "name": "ipython",
    "version": 3
   },
   "file_extension": ".py",
   "mimetype": "text/x-python",
   "name": "python",
   "nbconvert_exporter": "python",
   "pygments_lexer": "ipython3",
   "version": "3.11.4"
  }
 },
 "nbformat": 4,
 "nbformat_minor": 5
}
