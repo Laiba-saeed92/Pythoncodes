{
 "cells": [
  {
   "cell_type": "code",
   "execution_count": 16,
   "id": "5ea160c9-ae2f-4093-9730-0ad0cad97ebe",
   "metadata": {},
   "outputs": [
    {
     "name": "stdout",
     "output_type": "stream",
     "text": [
      "11.5\n"
     ]
    }
   ],
   "source": [
    "#function to execute code again and again\n",
    "def fun(a,b): #parameters a,b-> int ,float\n",
    " return a+b\n",
    "#fun(5,6) #arguments\n",
    "x=fun(5.5,6)\n",
    "print(x)"
   ]
  },
  {
   "cell_type": "code",
   "execution_count": 8,
   "id": "2ec589ce-a83f-4684-a2a3-bbe406ef7398",
   "metadata": {},
   "outputs": [
    {
     "name": "stdout",
     "output_type": "stream",
     "text": [
      " Hello ,  Alice !\n",
      "Hi,  Bob !\n"
     ]
    }
   ],
   "source": [
    "def greet (name , message =\" Hello \"):\n",
    " print(f\"{ message }, { name }!\")\n",
    "\n",
    " # Example usage\n",
    "greet (\" Alice \")\n",
    "greet (\" Bob \", message =\"Hi\")"
   ]
  },
  {
   "cell_type": "code",
   "execution_count": null,
   "id": "9d58a3da-41e0-46c1-bc1e-559d47253307",
   "metadata": {},
   "outputs": [],
   "source": [
    "#Example with Variable-Length Arguments\n",
    "def sum(*args):\n",
    " return sum(args)\n",
    "x=sum(1,2,3,5,6)\n",
    "print(\"the total is:\",x)"
   ]
  },
  {
   "cell_type": "code",
   "execution_count": 20,
   "id": "57855f29-0f05-47ec-aed0-1036efcac352",
   "metadata": {},
   "outputs": [
    {
     "name": "stdout",
     "output_type": "stream",
     "text": [
      "42.35\n"
     ]
    }
   ],
   "source": [
    "def multiply(a:float, b:float):\n",
    "  return a*b\n",
    "output=multiply(5.5,7.7)\n",
    "print(output)"
   ]
  },
  {
   "cell_type": "code",
   "execution_count": 26,
   "id": "db27cdf5-eedd-4c9d-b772-00582f17ba34",
   "metadata": {},
   "outputs": [
    {
     "name": "stdout",
     "output_type": "stream",
     "text": [
      "variable is: 10\n"
     ]
    }
   ],
   "source": [
    "#Local Scope \n",
    "#A variable declared inside a function is local to that function.\n",
    "def var():\n",
    " x=10\n",
    " print('variable is:',x)\n",
    "var()\n",
    "#print(x)"
   ]
  },
  {
   "cell_type": "code",
   "execution_count": 52,
   "id": "7301ac55-ed40-49c6-b69a-369d8aabb2f8",
   "metadata": {},
   "outputs": [
    {
     "ename": "NameError",
     "evalue": "name 'inner' is not defined",
     "output_type": "error",
     "traceback": [
      "\u001b[31m---------------------------------------------------------------------------\u001b[39m",
      "\u001b[31mNameError\u001b[39m                                 Traceback (most recent call last)",
      "\u001b[36mCell\u001b[39m\u001b[36m \u001b[39m\u001b[32mIn[52]\u001b[39m\u001b[32m, line 10\u001b[39m\n\u001b[32m      8\u001b[39m \u001b[38;5;66;03m#inner()\u001b[39;00m\n\u001b[32m      9\u001b[39m outer_func()\n\u001b[32m---> \u001b[39m\u001b[32m10\u001b[39m \u001b[43minner\u001b[49m()\n",
      "\u001b[31mNameError\u001b[39m: name 'inner' is not defined"
     ]
    }
   ],
   "source": [
    "#Enclosing Scope\n",
    "#nner functions can access enclosing function variables\n",
    "def outer_func():\n",
    "    y=10\n",
    "    def inner():\n",
    "        x=10\n",
    "        print('access outer variable:, y')\n",
    "inner()\n",
    "outer_func()\n",
    "\n"
   ]
  },
  {
   "cell_type": "code",
   "execution_count": 56,
   "id": "bc03faee-fbc3-459a-b59c-9ea76daf7d3f",
   "metadata": {},
   "outputs": [
    {
     "name": "stdout",
     "output_type": "stream",
     "text": [
      "the number is: 100\n",
      "here is the number: 100\n"
     ]
    }
   ],
   "source": [
    "#Global Scope\n",
    "#A variable declared outside all functions is global.\n",
    "x=100\n",
    "def num():\n",
    "    print('the number is:', x)\n",
    "num()\n",
    "print('here is the number:',x)"
   ]
  },
  {
   "cell_type": "code",
   "execution_count": 57,
   "id": "6d59a57f-9bd5-4f52-891e-9cfd884c6fef",
   "metadata": {},
   "outputs": [
    {
     "name": "stdout",
     "output_type": "stream",
     "text": [
      "the number is: 500\n",
      "here is the number: 500\n"
     ]
    }
   ],
   "source": [
    "#Using global to Modify a Global Variable\n",
    "x=100\n",
    "def num():\n",
    "    global x\n",
    "    x=500\n",
    "    print('the number is:', x)\n",
    "num()\n",
    "print('here is the number:',x)"
   ]
  },
  {
   "cell_type": "code",
   "execution_count": 59,
   "id": "d13d4a96-fe94-4802-b42d-6e83e458789b",
   "metadata": {},
   "outputs": [
    {
     "name": "stdout",
     "output_type": "stream",
     "text": [
      "5\n"
     ]
    }
   ],
   "source": [
    "#Built-in Scope\n",
    "#Python has built-in functions available everywhere.\n",
    "x='hello'\n",
    "print(len(x))"
   ]
  },
  {
   "cell_type": "code",
   "execution_count": 60,
   "id": "23e4a630-8f10-44e6-8ba0-9247e525e374",
   "metadata": {},
   "outputs": [
    {
     "name": "stdout",
     "output_type": "stream",
     "text": [
      " Square of 5: 25\n"
     ]
    }
   ],
   "source": [
    "'''A lambda function is a small, anonymous function that can take\n",
    "multiple arguments but only one expression. They are often used\n",
    "for concise inline operations.'''\n",
    "square = lambda x: x * x\n",
    "print (\" Square of 5:\", square (5) )"
   ]
  },
  {
   "cell_type": "code",
   "execution_count": 69,
   "id": "df59d454-88f6-44be-959d-f4016dec8144",
   "metadata": {},
   "outputs": [
    {
     "name": "stdout",
     "output_type": "stream",
     "text": [
      " Absolute of -10: 10\n",
      "positive numbers: [1, 2, 3, 4, 5]\n",
      "square: [1, 4, 9, 16, 25]\n",
      "the product is: 5040\n"
     ]
    }
   ],
   "source": [
    "'''map(), filter(), and reduce() are higher-order functions that\n",
    "take another function (like a lambda) and apply it to iterables.'''\n",
    "abs_value = lambda x: x if x >= 0 else -x\n",
    "print (\" Absolute of -10:\", abs_value ( -10))\n",
    "## Using lambda with map and filter\n",
    "number=list(range(-5,6))\n",
    "positives= list(filter(lambda x:x >0, number))\n",
    "square=list(map(lambda x: x**2, positives))\n",
    "print('positive numbers:', positives)\n",
    "print('square:', square)\n",
    "from functools import reduce\n",
    "num=[1,2,3,4,5,6,7]\n",
    "x=reduce(lambda x,y: x*y, num)\n",
    "print('the product is:', x)\n"
   ]
  },
  {
   "cell_type": "code",
   "execution_count": 71,
   "id": "705327b2-e0d1-419e-af78-ad8b530896b1",
   "metadata": {},
   "outputs": [
    {
     "name": "stdout",
     "output_type": "stream",
     "text": [
      " Sorted Scores : {' Charlie ': 70, ' Alice ': 88, ' Bob ': 95}\n"
     ]
    }
   ],
   "source": [
    "'''In dictionaries, lambdas can help define sorting or filtering criteria\n",
    "concisely'''\n",
    "scores = {\" Alice \": 88, \" Bob \": 95, \" Charlie \": 70}\n",
    "sorted_scores = dict ( sorted ( scores . items () , key= lambda x : x [1]) )\n",
    "print (\" Sorted Scores :\", sorted_scores )"
   ]
  },
  {
   "cell_type": "code",
   "execution_count": 82,
   "id": "cdff5b19-f68c-41de-89eb-1f6d2e2d4898",
   "metadata": {},
   "outputs": [],
   "source": [
    "'''A nested function is defined inside another function. It can access\n",
    "variables from the outer function’s scope. This allows organization\n",
    "of helper functionality within a single function.'''\n",
    "def outer(x):\n",
    "    def inner():\n",
    "        print(x)\n",
    "    inner()\n",
    "outer(5)"
   ]
  },
  {
   "cell_type": "code",
   "execution_count": 92,
   "id": "fcae3cd8-2355-4f8c-be81-3d1d2d0163c7",
   "metadata": {},
   "outputs": [
    {
     "ename": "FileNotFoundError",
     "evalue": "[Errno 2] No such file or directory: 'Desktop/css[roject.txt '",
     "output_type": "error",
     "traceback": [
      "\u001b[31m---------------------------------------------------------------------------\u001b[39m",
      "\u001b[31mFileNotFoundError\u001b[39m                         Traceback (most recent call last)",
      "\u001b[36mCell\u001b[39m\u001b[36m \u001b[39m\u001b[32mIn[92]\u001b[39m\u001b[32m, line 2\u001b[39m\n\u001b[32m      1\u001b[39m \u001b[38;5;66;03m# Reading a File\u001b[39;00m\n\u001b[32m----> \u001b[39m\u001b[32m2\u001b[39m \u001b[38;5;28;01mwith\u001b[39;00m \u001b[38;5;28;43mopen\u001b[39;49m\u001b[43m \u001b[49m\u001b[43m(\u001b[49m\u001b[33;43m'\u001b[39;49m\u001b[33;43mDesktop/css[roject.txt \u001b[39;49m\u001b[33;43m'\u001b[39;49m\u001b[43m,\u001b[49m\u001b[43m \u001b[49m\u001b[33;43m'\u001b[39;49m\u001b[33;43mr\u001b[39;49m\u001b[33;43m'\u001b[39;49m\u001b[43m)\u001b[49m \u001b[38;5;28;01mas\u001b[39;00m file :\n\u001b[32m      3\u001b[39m   content = file . read ()\n\u001b[32m      4\u001b[39m   \u001b[38;5;28mprint\u001b[39m ( content )\n",
      "\u001b[36mFile \u001b[39m\u001b[32mC:\\Program Files\\Python311\\Lib\\site-packages\\IPython\\core\\interactiveshell.py:325\u001b[39m, in \u001b[36m_modified_open\u001b[39m\u001b[34m(file, *args, **kwargs)\u001b[39m\n\u001b[32m    318\u001b[39m \u001b[38;5;28;01mif\u001b[39;00m file \u001b[38;5;129;01min\u001b[39;00m {\u001b[32m0\u001b[39m, \u001b[32m1\u001b[39m, \u001b[32m2\u001b[39m}:\n\u001b[32m    319\u001b[39m     \u001b[38;5;28;01mraise\u001b[39;00m \u001b[38;5;167;01mValueError\u001b[39;00m(\n\u001b[32m    320\u001b[39m         \u001b[33mf\u001b[39m\u001b[33m\"\u001b[39m\u001b[33mIPython won\u001b[39m\u001b[33m'\u001b[39m\u001b[33mt let you open fd=\u001b[39m\u001b[38;5;132;01m{\u001b[39;00mfile\u001b[38;5;132;01m}\u001b[39;00m\u001b[33m by default \u001b[39m\u001b[33m\"\u001b[39m\n\u001b[32m    321\u001b[39m         \u001b[33m\"\u001b[39m\u001b[33mas it is likely to crash IPython. If you know what you are doing, \u001b[39m\u001b[33m\"\u001b[39m\n\u001b[32m    322\u001b[39m         \u001b[33m\"\u001b[39m\u001b[33myou can use builtins\u001b[39m\u001b[33m'\u001b[39m\u001b[33m open.\u001b[39m\u001b[33m\"\u001b[39m\n\u001b[32m    323\u001b[39m     )\n\u001b[32m--> \u001b[39m\u001b[32m325\u001b[39m \u001b[38;5;28;01mreturn\u001b[39;00m \u001b[43mio_open\u001b[49m\u001b[43m(\u001b[49m\u001b[43mfile\u001b[49m\u001b[43m,\u001b[49m\u001b[43m \u001b[49m\u001b[43m*\u001b[49m\u001b[43margs\u001b[49m\u001b[43m,\u001b[49m\u001b[43m \u001b[49m\u001b[43m*\u001b[49m\u001b[43m*\u001b[49m\u001b[43mkwargs\u001b[49m\u001b[43m)\u001b[49m\n",
      "\u001b[31mFileNotFoundError\u001b[39m: [Errno 2] No such file or directory: 'Desktop/css[roject.txt '"
     ]
    }
   ],
   "source": [
    "# Reading a File\n",
    "with open ('Desktop/css[roject.txt ', 'r') as file :\n",
    "  content = file . read ()\n",
    "  print ( content )\n",
    "# Writing to a File\n",
    "with open ('Desktop/css[roject.txt ', 'w') as file :\n",
    "  file . write (\"Hello , world !\")"
   ]
  },
  {
   "cell_type": "code",
   "execution_count": 94,
   "id": "2c6f9158-689c-422e-9b52-dc099c3374b6",
   "metadata": {},
   "outputs": [
    {
     "name": "stdout",
     "output_type": "stream",
     "text": [
      "An error occurred : division by zero\n"
     ]
    }
   ],
   "source": [
    "#Common Exceptions and Their Handling\n",
    "try :\n",
    " result = 10 / 0\n",
    "except ( ZeroDivisionError , ValueError ) as e:\n",
    " print (\"An error occurred :\", e)"
   ]
  },
  {
   "cell_type": "code",
   "execution_count": 91,
   "id": "e5259804-25da-45ec-816a-9950fc5fc08e",
   "metadata": {},
   "outputs": [
    {
     "name": "stdout",
     "output_type": "stream",
     "text": [
      "even\n",
      "odd\n"
     ]
    }
   ],
   "source": [
    "def evenodd(x):\n",
    " if x%2==0:\n",
    "     print('even')\n",
    " else:\n",
    "     print('odd')\n",
    "evenodd(2)\n",
    "evenodd(7)"
   ]
  },
  {
   "cell_type": "code",
   "execution_count": null,
   "id": "e668cac2-0bf2-4b61-97d3-c704bcf46f3c",
   "metadata": {},
   "outputs": [],
   "source": []
  },
  {
   "cell_type": "code",
   "execution_count": null,
   "id": "0791ec7f-81ea-4e1a-9d1c-682e9441ada9",
   "metadata": {},
   "outputs": [],
   "source": []
  },
  {
   "cell_type": "code",
   "execution_count": null,
   "id": "d5016c61-cc72-4797-8320-8c429ab42a4f",
   "metadata": {},
   "outputs": [],
   "source": []
  },
  {
   "cell_type": "code",
   "execution_count": 9,
   "id": "5588cd71-112d-48bb-8e22-12eb4e5e0f9e",
   "metadata": {},
   "outputs": [
    {
     "name": "stdout",
     "output_type": "stream",
     "text": [
      "24\n"
     ]
    }
   ],
   "source": [
    "#default argument\n",
    "def factorial(n):\n",
    "  if n==0:\n",
    "    return 1\n",
    "  else:\n",
    "    return n*factorial(n-1)\n",
    "print(factorial(4))\n",
    "\n",
    "    \n"
   ]
  },
  {
   "cell_type": "code",
   "execution_count": 15,
   "id": "e10dcb57-e115-4d95-b90f-dddeaa834d8a",
   "metadata": {},
   "outputs": [
    {
     "data": {
      "text/plain": [
       "2"
      ]
     },
     "execution_count": 15,
     "metadata": {},
     "output_type": "execute_result"
    }
   ],
   "source": [
    "def fact(n):\n",
    "  result=1\n",
    "  for i in range(1, n+1):\n",
    "    result+=i\n",
    "    return result\n",
    "fact(10)"
   ]
  },
  {
   "cell_type": "code",
   "execution_count": null,
   "id": "79899a1c-e8f3-42cb-9737-53367a72aecd",
   "metadata": {},
   "outputs": [],
   "source": [
    "#try and error\n",
    "def set(age):\n",
    "    if age<0:\n",
    "        raise valueError('age cannot be negative')\n",
    "    print(f'age set to:{age{)\n",
    "\n"
   ]
  },
  {
   "cell_type": "code",
   "execution_count": null,
   "id": "70a4804a-c713-4bd1-9a01-f4da0e141f0b",
   "metadata": {},
   "outputs": [],
   "source": []
  },
  {
   "cell_type": "code",
   "execution_count": null,
   "id": "0c9e8e1e-1a8d-4615-8e1e-229b6b4d8ab1",
   "metadata": {},
   "outputs": [],
   "source": []
  }
 ],
 "metadata": {
  "kernelspec": {
   "display_name": "Python 3 (ipykernel)",
   "language": "python",
   "name": "python3"
  },
  "language_info": {
   "codemirror_mode": {
    "name": "ipython",
    "version": 3
   },
   "file_extension": ".py",
   "mimetype": "text/x-python",
   "name": "python",
   "nbconvert_exporter": "python",
   "pygments_lexer": "ipython3",
   "version": "3.11.4"
  }
 },
 "nbformat": 4,
 "nbformat_minor": 5
}
