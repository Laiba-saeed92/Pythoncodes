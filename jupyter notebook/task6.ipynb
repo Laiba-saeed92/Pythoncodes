{
 "cells": [
  {
   "cell_type": "code",
   "execution_count": 2,
   "id": "28210e51-7a62-4a42-812b-74eeec9b087e",
   "metadata": {},
   "outputs": [
    {
     "name": "stdout",
     "output_type": "stream",
     "text": [
      "1500\n",
      "1005000\n"
     ]
    }
   ],
   "source": [
    "#oop \n",
    "#procedural vs the object orientation approach\n",
    "class bankaccount:\n",
    "    def __init__(self, balance):\n",
    "        self.balance=balance\n",
    "    def deposit(self,amount):\n",
    "        self.balance+=amount\n",
    "account=bankaccount(1000)\n",
    "account.deposit(500)\n",
    "print(account.balance)\n",
    "obj=bankaccount(1000000)\n",
    "obj.deposit(5000)\n",
    "print(obj.balance)"
   ]
  },
  {
   "cell_type": "code",
   "execution_count": 4,
   "id": "f64ec92a-a7a6-4bdf-be12-edbd8da8b09a",
   "metadata": {},
   "outputs": [
    {
     "name": "stdout",
     "output_type": "stream",
     "text": [
      "toyota corolla's engine started\n"
     ]
    }
   ],
   "source": [
    "class car:\n",
    "    def __init__(self,brand, model):\n",
    "        self.brand=brand\n",
    "        self.model=model\n",
    "    def start_engine(self):\n",
    "        print(f\"{self.brand} {self.model}'s engine started\")\n",
    "my_car=car('toyota', 'corolla')\n",
    "my_car.start_engine()"
   ]
  },
  {
   "cell_type": "code",
   "execution_count": 7,
   "id": "c8ff2d4c-0575-44fc-a19f-6551b08b4e6b",
   "metadata": {},
   "outputs": [
    {
     "ename": "SyntaxError",
     "evalue": "incomplete input (4164216514.py, line 21)",
     "output_type": "error",
     "traceback": [
      "  \u001b[36mCell\u001b[39m\u001b[36m \u001b[39m\u001b[32mIn[7]\u001b[39m\u001b[32m, line 21\u001b[39m\n\u001b[31m    \u001b[39m\n    ^\n\u001b[31mSyntaxError\u001b[39m\u001b[31m:\u001b[39m incomplete input\n"
     ]
    }
   ],
   "source": [
    "#stack\n",
    "stack=[]\n",
    "def push(val):\n",
    "    stack.append(val)\n",
    "def pop():\n",
    "    val=stack[-1]\n",
    "    del stack[-1]\n",
    "    return val\n",
    "push(3)\n",
    "push(2)\n",
    "push(1)\n",
    "print(pop())\n",
    "print(pop())\n",
    "#create a class and use stack push and pop in it\n",
    "class stack:\n",
    "    def __init__(self):\n",
    "        self.__stack__list=[]\n",
    "    def push(self,val):\n",
    "        self.__stack_list[-1]\n",
    "    def pop(self):\n",
    "        val=self.__stack_list[-1]\n",
    "        del self.__stack_list[-1]\n",
    "        return val\n",
    "stack_object\n",
    "    "
   ]
  },
  {
   "cell_type": "code",
   "execution_count": 11,
   "id": "6d5772f8-eff4-41aa-bc85-d9fb5677d563",
   "metadata": {},
   "outputs": [
    {
     "name": "stdout",
     "output_type": "stream",
     "text": [
      "1\n",
      "None\n"
     ]
    }
   ],
   "source": [
    "#practice \n",
    "class exampleclass:\n",
    "    def __init__(self,val):\n",
    "        self.a=None\n",
    "        self.b=None\n",
    "        if val%2!=0:\n",
    "            self.a=1\n",
    "        else:\n",
    "            self.b=1\n",
    "example_obj=exampleclass(1)\n",
    "print(example_obj.a)\n",
    "print(example_obj.b)"
   ]
  },
  {
   "cell_type": "code",
   "execution_count": 15,
   "id": "8127a697-dc91-47a8-8ab0-c7a60a4dc28a",
   "metadata": {},
   "outputs": [
    {
     "name": "stdout",
     "output_type": "stream",
     "text": [
      "1\n",
      "AttributeError\n"
     ]
    }
   ],
   "source": [
    "#try and error block\n",
    "class exampleclass:\n",
    "    def __init__(self,val):\n",
    "        if val%2!=0:\n",
    "            self.a=1\n",
    "        else:\n",
    "            self.b=1\n",
    "example_obj=exampleclass(1)\n",
    "print(example_obj.a)\n",
    "try:\n",
    "    print(example_obj.b)\n",
    "except: print('AttributeError')\n",
    "pass"
   ]
  },
  {
   "cell_type": "code",
   "execution_count": 16,
   "id": "b880dc48-d4ee-4562-85cf-efd695fcbc04",
   "metadata": {},
   "outputs": [
    {
     "name": "stdout",
     "output_type": "stream",
     "text": [
      "1\n"
     ]
    }
   ],
   "source": [
    "class exampleclass:\n",
    "    def __init__(self,val):\n",
    "        if val%2!=0:\n",
    "            self.a=1\n",
    "        else:\n",
    "            self.b=1\n",
    "example_obj=exampleclass(1)\n",
    "print(example_obj.a)\n",
    "if hasattr(example_obj,'b'):\n",
    "    print(example_obj.b)"
   ]
  },
  {
   "cell_type": "code",
   "execution_count": 17,
   "id": "e86dfe85-f251-4946-a9b8-b6881d5414b3",
   "metadata": {},
   "outputs": [
    {
     "name": "stdout",
     "output_type": "stream",
     "text": [
      "True\n",
      "False\n"
     ]
    }
   ],
   "source": [
    "class exampleclass():\n",
    "     attr=1\n",
    "print(hasattr(exampleclass, 'attr'))\n",
    "print(hasattr(exampleclass, 'prop'))\n"
   ]
  },
  {
   "cell_type": "code",
   "execution_count": 18,
   "id": "77fa497b-4481-470f-aafc-ba9e72b7b12c",
   "metadata": {},
   "outputs": [
    {
     "name": "stdout",
     "output_type": "stream",
     "text": [
      "True\n",
      "False\n",
      "True\n",
      "True\n"
     ]
    }
   ],
   "source": [
    "class exampleclass():\n",
    "    a=1\n",
    "    def __init__(self):\n",
    "        self.b=2\n",
    "example_obj= exampleclass()\n",
    "print(hasattr(exampleclass, 'a'))\n",
    "print(hasattr(exampleclass, 'b'))\n",
    "print(hasattr(example_obj, 'a'))\n",
    "print(hasattr(example_obj, 'b'))"
   ]
  },
  {
   "cell_type": "code",
   "execution_count": null,
   "id": "47da7a7e-f883-41ff-8004-927ad87d2329",
   "metadata": {},
   "outputs": [],
   "source": [
    "class sample:\n",
    "    gamma=0\n",
    "    def __init__(self);\n",
    "    self.alpha=1 #instance variable\n",
    "    self.__delta=3 #private instance variable\n",
    "obj=sample()\n",
    "obj.beta=2\n",
    "print(obj.__dict_)\n",
    "    "
   ]
  },
  {
   "cell_type": "code",
   "execution_count": 5,
   "id": "d2fc8018-6a36-4bc5-bc4e-ecb0d8b63410",
   "metadata": {},
   "outputs": [
    {
     "name": "stdout",
     "output_type": "stream",
     "text": [
      "1\n",
      "3\n",
      "5\n",
      "7\n",
      "9\n",
      "11\n",
      "13\n",
      "15\n"
     ]
    }
   ],
   "source": [
    "def power_of_2(n):\n",
    "    power=1\n",
    "    for i in range(n):\n",
    "        yield power\n",
    "        power+=2\n",
    "for v in power_of_2(8):\n",
    " print(v)"
   ]
  },
  {
   "cell_type": "code",
   "execution_count": null,
   "id": "9621ceb9-7886-4c28-9d1e-dd654402609c",
   "metadata": {},
   "outputs": [],
   "source": []
  }
 ],
 "metadata": {
  "kernelspec": {
   "display_name": "Python 3 (ipykernel)",
   "language": "python",
   "name": "python3"
  },
  "language_info": {
   "codemirror_mode": {
    "name": "ipython",
    "version": 3
   },
   "file_extension": ".py",
   "mimetype": "text/x-python",
   "name": "python",
   "nbconvert_exporter": "python",
   "pygments_lexer": "ipython3",
   "version": "3.11.4"
  }
 },
 "nbformat": 4,
 "nbformat_minor": 5
}
