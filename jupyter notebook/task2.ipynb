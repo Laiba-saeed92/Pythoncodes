{
 "cells": [
  {
   "cell_type": "code",
   "execution_count": null,
   "id": "a876fe36-73d9-49d2-9a83-6787fa82505b",
   "metadata": {},
   "outputs": [],
   "source": [
    "#Tuples and Dictionaries and Sets\n",
    "#tuples are for fixed data\n",
    "#immutable, cannot add, remove r update the tuple also oredred collection of items\n",
    "#we use round brackets to create tuple"
   ]
  },
  {
   "cell_type": "code",
   "execution_count": 6,
   "id": "ea1b1f67-65f9-4984-a181-921b1bc203e9",
   "metadata": {},
   "outputs": [
    {
     "name": "stdout",
     "output_type": "stream",
     "text": [
      "<class 'tuple'>\n"
     ]
    }
   ],
   "source": [
    "fruits=('apple', 'banana', 'cherry')\n",
    "numbers=(1,2,3,4,5)\n",
    "print(type(fruits))"
   ]
  },
  {
   "cell_type": "code",
   "execution_count": 7,
   "id": "b06d88ed-43d8-4d4d-bee5-0b2aec75a63d",
   "metadata": {},
   "outputs": [
    {
     "name": "stdout",
     "output_type": "stream",
     "text": [
      "<class 'str'>\n"
     ]
    }
   ],
   "source": [
    "fruits=('apple') #if there is one element in the tuple then we have to put comma after that one element to make it a tuple otherwise it will be considered as string\n",
    "print(type(fruits))"
   ]
  },
  {
   "cell_type": "code",
   "execution_count": 8,
   "id": "4239a5a8-5890-47cd-b998-b3036afcadcb",
   "metadata": {},
   "outputs": [
    {
     "name": "stdout",
     "output_type": "stream",
     "text": [
      "<class 'tuple'>\n"
     ]
    }
   ],
   "source": [
    "fruits=('apple',)\n",
    "print(type(fruits))"
   ]
  },
  {
   "cell_type": "code",
   "execution_count": 23,
   "id": "8a9b090b-6790-4835-a1d9-95c4e6cc1744",
   "metadata": {},
   "outputs": [
    {
     "name": "stdout",
     "output_type": "stream",
     "text": [
      "(1, 2, 3, 3, 4, 5, 6)\n",
      "(2, 2, 2, 2, 2)\n"
     ]
    }
   ],
   "source": [
    "#concatenation\n",
    "numbers=(1,2,3)+(3,4,5,6)\n",
    "print(numbers)\n",
    "tuples=(2,)*5\n",
    "print(tuples)"
   ]
  },
  {
   "cell_type": "code",
   "execution_count": 5,
   "id": "582f8327-d8c0-4d78-a5f2-7c8359ef7cab",
   "metadata": {},
   "outputs": [
    {
     "name": "stdout",
     "output_type": "stream",
     "text": [
      "10\n",
      "34\n",
      "55\n"
     ]
    }
   ],
   "source": [
    "#tuple unpacking\n",
    "new=(10,34,55)\n",
    "new=x,y,z # or x,y,z=new\n",
    "print(x)\n",
    "print(y)\n",
    "print(z)"
   ]
  },
  {
   "cell_type": "code",
   "execution_count": null,
   "id": "6c1a361d-2877-400f-a1b5-48f7e8da9414",
   "metadata": {},
   "outputs": [],
   "source": []
  },
  {
   "cell_type": "code",
   "execution_count": 10,
   "id": "be125098-e6d1-45d5-98f2-ebdbfbdddfb7",
   "metadata": {
    "jupyter": {
     "source_hidden": true
    }
   },
   "outputs": [
    {
     "name": "stdout",
     "output_type": "stream",
     "text": [
      "The first element is: 1\n"
     ]
    }
   ],
   "source": [
    "#task1\n",
    "mytuple=(1,'hello', 6, 3.14, 'banana')\n",
    "mytuple[0]\n",
    "print('The first element is:', mytuple[0])"
   ]
  },
  {
   "cell_type": "code",
   "execution_count": 13,
   "id": "c5240e7b-9071-4fa2-a114-189b22cc0883",
   "metadata": {},
   "outputs": [
    {
     "name": "stdout",
     "output_type": "stream",
     "text": [
      "The first element is: banana\n"
     ]
    }
   ],
   "source": [
    "mytuple=(1,'hello', 6, 3.14, 'banana')\n",
    "mytuple[-1]\n",
    "print('The first element is:', mytuple[-1])"
   ]
  },
  {
   "cell_type": "code",
   "execution_count": 17,
   "id": "3f0bab89-0955-4496-a193-ad949ff30493",
   "metadata": {},
   "outputs": [
    {
     "name": "stdout",
     "output_type": "stream",
     "text": [
      "(2, 4, 6, 8)\n"
     ]
    }
   ],
   "source": [
    "#task2\n",
    "mytuple=(1,2,3,4,5,6,7,8,9)\n",
    "print(mytuple[1::2])"
   ]
  },
  {
   "cell_type": "code",
   "execution_count": 22,
   "id": "86402c23-3c04-4e34-8a6e-536e20bcbc80",
   "metadata": {},
   "outputs": [
    {
     "name": "stdout",
     "output_type": "stream",
     "text": [
      "{'name': 'laiba', 'age': 25}\n",
      "25\n",
      "{'name': 'laiba', 'age': 25, 'grade': 'A', 'class': '12'}\n",
      "dict_keys(['name', 'age', 'grade', 'class'])\n",
      "dict_values(['laiba', 25, 'A', '12'])\n",
      "dict_items([('name', 'laiba'), ('age', 25), ('grade', 'A'), ('class', '12')])\n",
      "{'name': 'laiba', 'age': 25, 'class': '12'}\n"
     ]
    }
   ],
   "source": [
    "#Dictionaries stores key-value pair(mutable)\n",
    "#uses curly brackers\n",
    "student={'name':laiba', 'age':25}\n",
    "print(student)\n",
    "print(student['age'])\n",
    "student['grade']='A'\n",
    "student['class']= '12'\n",
    "print(student)\n",
    "print(student.keys())\n",
    "print(student.values())\n",
    "print(student.items())\n",
    "del student['grade']\n",
    "print(student)\n",
    "\n",
    "\n",
    "\n",
    "\n",
    "\n"
   ]
  },
  {
   "cell_type": "code",
   "execution_count": 12,
   "id": "fa8545d6-2a82-4ab0-be44-882cddff3ef3",
   "metadata": {},
   "outputs": [
    {
     "name": "stdout",
     "output_type": "stream",
     "text": [
      "Updated Dictionary: {'Alice': 90, 'Bob': 78, 'Charlie': 92, 'David': 88}\n",
      "Top Student: Charlie Score: 92\n"
     ]
    }
   ],
   "source": [
    "#dictionary task#1\n",
    "students = {\"Alice\": 85, \"Bob\": 78, \"Charlie\": 92}\n",
    "# Add a new student\n",
    "students[\"David\"] = 88\n",
    "\n",
    "# Update a score\n",
    "students[\"Alice\"] = 90\n",
    "\n",
    "# Find student with the highest score\n",
    "top_student = max(students, key=students.get)\n",
    "\n",
    "print(\"Updated Dictionary:\", students)\n",
    "print(\"Top Student:\", top_student, \"Score:\", students[top_student])"
   ]
  },
  {
   "cell_type": "code",
   "execution_count": 10,
   "id": "a1cf266b-0a2c-49f8-8850-baa81e6ee8ba",
   "metadata": {},
   "outputs": [
    {
     "name": "stdout",
     "output_type": "stream",
     "text": [
      "{1, 2, 3, 4, 6, 7}\n",
      "{3, 4, 6, 7, 9}\n",
      "{1, 2, 3, 4, 5}\n",
      "{3}\n",
      "{1, 2}\n",
      "{24, True, 40, 'abc'}\n",
      "{1, 2, 3, 'c', 'b', 'a'}\n",
      "{1, 2, 3, 'c', 'b', 'a'}\n",
      "{6, 7, 8, 9, 'b', 'a', 'c'}\n"
     ]
    }
   ],
   "source": [
    "#Sets\n",
    "#Sets store unique, unordered collections of items., donot allow duplicates, vcan have multipe datatypes\n",
    "#we use curly brackets for sets too\n",
    "numbers={1,2,3,4,6,7,6,6,6}\n",
    "print(numbers)\n",
    "numbers.add(9)\n",
    "numbers.remove(1)\n",
    "numbers.pop()\n",
    "print(numbers)\n",
    "A={1,2,3}\n",
    "B={3,4,5}\n",
    "print(A|B)\n",
    "print(A&B)\n",
    "print(A-B)\n",
    "set1={'abc', 24,True, 40}\n",
    "print(set1)\n",
    "set1={'a', 'b','c'}\n",
    "set2={1,2,3}\n",
    "set3=set1.union(set2) #using union function\n",
    "print(set3) \n",
    "#or\n",
    "print(set1 |set2)\n",
    "x={'a', 'b', 'c'}\n",
    "y=(6,7,8,9)\n",
    "z=x.union(y)\n",
    "print(z)"
   ]
  },
  {
   "cell_type": "code",
   "execution_count": 11,
   "id": "4fa7a715-e82c-4984-8db5-4a363f364fe2",
   "metadata": {},
   "outputs": [
    {
     "name": "stdout",
     "output_type": "stream",
     "text": [
      "{1, 2, 3, 'c', 'b', 'a'}\n",
      "{'banana', 'cherry'}\n"
     ]
    }
   ],
   "source": [
    "set1 = {\"a\", \"b\" , \"c\"}\n",
    "set2 = {1, 2, 3}\n",
    "set1.update(set2)\n",
    "print(set1)\n",
    "set1 = {\"apple\", \"banana\", \"cherry\"}\n",
    "set2 = {\"google\", \"microsoft\", \"apple\"}\n",
    "\n",
    "set1.difference_update(set2)\n",
    "\n",
    "print(set1)"
   ]
  },
  {
   "cell_type": "code",
   "execution_count": 17,
   "id": "c0c55e44-ff44-4da8-8d29-06b5d2efb1b4",
   "metadata": {},
   "outputs": [
    {
     "name": "stdout",
     "output_type": "stream",
     "text": [
      "{3, 4}\n",
      "{1, 2}\n",
      "{1, 2, 3, 4, 5, 6}\n"
     ]
    }
   ],
   "source": [
    "#task1\n",
    "set1={1,2,3,4}\n",
    "set2={3,4,5,6}\n",
    "z=set1 & set2\n",
    "#z=set1.intersection(set2)\n",
    "print(z)\n",
    "z=set1-set2\n",
    "#z=set1.difference(set2)\n",
    "print(z)\n",
    "z=set1 | set2\n",
    "print(z)"
   ]
  },
  {
   "cell_type": "code",
   "execution_count": null,
   "id": "ec1c5309-46a1-4119-af06-f98a32cf3b02",
   "metadata": {},
   "outputs": [],
   "source": []
  },
  {
   "cell_type": "code",
   "execution_count": 27,
   "id": "3c73a3c6-6d3d-4290-9f11-ea4cd65f7885",
   "metadata": {},
   "outputs": [
    {
     "name": "stdout",
     "output_type": "stream",
     "text": [
      "adult\n"
     ]
    }
   ],
   "source": [
    "#control flow\n",
    "#else elif else statements\n",
    "age=20\n",
    "if age<15:\n",
    "    print('minor')\n",
    "elif age==18:\n",
    "    print('exact 18')\n",
    "else:\n",
    "    print('adult')\n"
   ]
  },
  {
   "cell_type": "code",
   "execution_count": 37,
   "id": "12d30022-eb13-48b7-8080-66117d7e44b8",
   "metadata": {},
   "outputs": [
    {
     "name": "stdout",
     "output_type": "stream",
     "text": [
      "exact 21\n"
     ]
    }
   ],
   "source": [
    "#nested if else\n",
    "age=21\n",
    "if age>=18:\n",
    "    \n",
    "    if age>=21:\n",
    "        print('exact 21')\n",
    "    else:\n",
    "        print('adult under 21')\n",
    "else:\n",
    "    print('minor')\n",
    "        "
   ]
  },
  {
   "cell_type": "code",
   "execution_count": 33,
   "id": "6e82a29e-cb6e-4932-a05b-0a0b48a730c3",
   "metadata": {},
   "outputs": [
    {
     "name": "stdout",
     "output_type": "stream",
     "text": [
      "1\n",
      "2\n",
      "34\n",
      "5\n",
      "44\n",
      "66\n",
      "55\n",
      "12\n",
      "35\n",
      "0 apple\n",
      "1 banana\n",
      "2 cherry\n",
      "3 kiwi\n"
     ]
    }
   ],
   "source": [
    "#loops\n",
    "#for loop, used to iterate over a sequence such as lists, tuples,strings and execute a block of code for each item\n",
    "numbers=[1,2,34,5,44,66,55,12,35]\n",
    "for x in numbers:\n",
    "    print(x)\n",
    "fruits=['apple','banana','cherry', 'kiwi']\n",
    "for index , fruit in enumerate(fruits):\n",
    "    print(index, fruit)"
   ]
  },
  {
   "cell_type": "code",
   "execution_count": 28,
   "id": "aebb7a50-9b27-47fb-a17e-5999864bb49a",
   "metadata": {},
   "outputs": [
    {
     "name": "stdout",
     "output_type": "stream",
     "text": [
      "0\n",
      "1\n",
      "2\n",
      "3\n",
      "4\n"
     ]
    }
   ],
   "source": [
    "#while loop\n",
    "#a while loop is used to execute a block of code repeatedly as long as a certain condition is true\n",
    "#repeated tasks, unlike for loop while loops are used when no of iterations are not known\n",
    "i=0\n",
    "while  i<5:\n",
    "    print(i)\n",
    "    i+=1"
   ]
  },
  {
   "cell_type": "code",
   "execution_count": 42,
   "id": "ca30f7a0-62df-49ab-81bd-82222503b6a2",
   "metadata": {},
   "outputs": [
    {
     "name": "stdout",
     "output_type": "stream",
     "text": [
      "0\n",
      "1\n",
      "2\n",
      "0\n",
      "1\n",
      "2\n",
      "4\n"
     ]
    }
   ],
   "source": [
    "#break: Exit loop immediately\n",
    "for num in range (5) :\n",
    "    if num == 3:\n",
    "      break\n",
    "    print (num)\n",
    "#continue: Skip current iteration\n",
    "for num in range (5) :\n",
    "    if num == 3:\n",
    "      continue\n",
    "    print (num)"
   ]
  },
  {
   "cell_type": "code",
   "execution_count": 35,
   "id": "4dde0d5b-75c1-47a4-83b1-5e74195db9e8",
   "metadata": {},
   "outputs": [
    {
     "name": "stdin",
     "output_type": "stream",
     "text": [
      "enter the grade 63\n"
     ]
    },
    {
     "name": "stdout",
     "output_type": "stream",
     "text": [
      "C\n"
     ]
    }
   ],
   "source": [
    "#task\n",
    "grade=int(input('enter the grade'))\n",
    "if grade>=80:\n",
    "  print('A')\n",
    "elif grade>=70:\n",
    "  print('B')\n",
    "elif grade>=60:\n",
    "  print('C')\n",
    "else:\n",
    "  print('F')"
   ]
  },
  {
   "cell_type": "code",
   "execution_count": 55,
   "id": "7590d558-806f-4e37-95dc-1d39e2d0fcbc",
   "metadata": {},
   "outputs": [
    {
     "name": "stdin",
     "output_type": "stream",
     "text": [
      "enter a number: 5\n"
     ]
    },
    {
     "name": "stdout",
     "output_type": "stream",
     "text": [
      "1\n",
      "2\n",
      "3\n",
      "4\n",
      "5\n"
     ]
    }
   ],
   "source": [
    "#task2\n",
    "N=int(input('enter a number:'))\n",
    "for i in range(1,N+1):\n",
    "    print(i)"
   ]
  },
  {
   "cell_type": "code",
   "execution_count": 52,
   "id": "76dbcad2-9f1b-4dbe-addf-de9ce23f7663",
   "metadata": {},
   "outputs": [],
   "source": [
    "#pass: Placeholder, does nothing\n",
    "if True:\n",
    "    pass"
   ]
  },
  {
   "cell_type": "code",
   "execution_count": 1,
   "id": "842562ef-83d4-48a1-8aec-ddac0d67ddfb",
   "metadata": {},
   "outputs": [
    {
     "name": "stdout",
     "output_type": "stream",
     "text": [
      "[0, 1, 4, 9, 16]\n"
     ]
    }
   ],
   "source": [
    "#concise method for creating lists\n",
    "numbers=[x**2 for x in range(5)]\n",
    "print(numbers)\n"
   ]
  },
  {
   "cell_type": "code",
   "execution_count": 4,
   "id": "9263c071-570d-4c44-a1e4-e79bd39109c9",
   "metadata": {},
   "outputs": [
    {
     "name": "stdout",
     "output_type": "stream",
     "text": [
      "[0, 2, 4, 6, 8]\n"
     ]
    }
   ],
   "source": [
    "numbers=[x for x in range(10) if x%2==0]\n",
    "print(numbers)"
   ]
  },
  {
   "cell_type": "code",
   "execution_count": 5,
   "id": "e7b11391-9cb9-4c58-b18b-1b8c1ac2f08d",
   "metadata": {},
   "outputs": [
    {
     "name": "stdout",
     "output_type": "stream",
     "text": [
      "[(0, 'a'), (0, 'b'), (1, 'a'), (1, 'b'), (2, 'a'), (2, 'b')]\n"
     ]
    }
   ],
   "source": [
    "#nested loop simplified here\n",
    "numbers=[(x,y) for x in range(3) for y in 'ab']\n",
    "print(numbers)"
   ]
  },
  {
   "cell_type": "code",
   "execution_count": 6,
   "id": "575cf33d-ceae-449c-b062-8d76aa1f425e",
   "metadata": {},
   "outputs": [
    {
     "name": "stdout",
     "output_type": "stream",
     "text": [
      "[[0, 0, 0], [0, 1, 2], [0, 2, 4]]\n"
     ]
    }
   ],
   "source": [
    "#Matrix creation using nested comprehension:\n",
    "numbers= [[x*y for x in range(3)] for y in range(3)]\n",
    "print(numbers)"
   ]
  },
  {
   "cell_type": "code",
   "execution_count": 7,
   "id": "d1a79d4e-5dbb-4a90-b18d-e291355c4313",
   "metadata": {},
   "outputs": [
    {
     "name": "stdout",
     "output_type": "stream",
     "text": [
      "{0, 1, 64, 4, 36, 9, 16, 49, 81, 25}\n"
     ]
    }
   ],
   "source": [
    "#Set and Dictionary Comprehensions\n",
    "#Set comprehension:\n",
    "myset={x**2 for x in range(10)}\n",
    "print(myset)"
   ]
  },
  {
   "cell_type": "code",
   "execution_count": 9,
   "id": "30cd5172-ebbd-4238-88b9-022bd7767da6",
   "metadata": {},
   "outputs": [
    {
     "name": "stdout",
     "output_type": "stream",
     "text": [
      "{0: 0, 1: 1, 2: 4, 3: 9, 4: 16, 5: 25, 6: 36, 7: 49, 8: 64, 9: 81}\n",
      "{0: 0, 2: 4, 4: 16, 6: 36, 8: 64}\n"
     ]
    }
   ],
   "source": [
    "#Dictionary comprehension:\n",
    "mydict={x:x**2 for x in range(10)}\n",
    "print(mydict)\n",
    "#Conditional dictionary comprehension:\n",
    "mydict={x:x**2 for x in range(10) if x%2==0}\n",
    "print(mydict)"
   ]
  },
  {
   "cell_type": "code",
   "execution_count": 13,
   "id": "5d6d0946-cc80-4fbb-b39d-e3dbb42056cb",
   "metadata": {},
   "outputs": [
    {
     "name": "stdout",
     "output_type": "stream",
     "text": [
      "[34, 55, 23]\n",
      "{34: 'fail', 55: 'pass', 67: 'pass', 23: 'fail', 75: 'pass', 85: 'pass'}\n"
     ]
    }
   ],
   "source": [
    "#\u0002 Practical Example: Comprehensions\n",
    "scores=[34,55,67,23,75,85]\n",
    "passed=[score for score in scores if score<=55]\n",
    "print(passed)\n",
    "grades={score: ('pass' if score>=55 else 'fail') for score in scores}\n",
    "print(grades)"
   ]
  },
  {
   "cell_type": "code",
   "execution_count": 14,
   "id": "007f0490-5573-45fc-93fa-0887f70eb9e2",
   "metadata": {},
   "outputs": [
    {
     "name": "stdout",
     "output_type": "stream",
     "text": [
      " apple \n",
      " banana \n"
     ]
    }
   ],
   "source": [
    "#Iterator basics:\n",
    "fruits = [\" apple \", \" banana \"]\n",
    "fruit_iter = iter ( fruits )\n",
    "print ( next ( fruit_iter )) # apple\n",
    "print ( next ( fruit_iter ))\n",
    "#"
   ]
  },
  {
   "cell_type": "code",
   "execution_count": 20,
   "id": "63edb1f4-cc70-4278-9258-b815293205a7",
   "metadata": {},
   "outputs": [
    {
     "name": "stdout",
     "output_type": "stream",
     "text": [
      " name :␣ Alice \n",
      "age :␣24\n"
     ]
    }
   ],
   "source": [
    "student = {\" name \": \" Alice \", \"age \": 24}\n",
    "for key , value in student. items () :\n",
    "   print (f\"{key }:␣{ value }\")"
   ]
  },
  {
   "cell_type": "code",
   "execution_count": null,
   "id": "815091b6-57e3-44fa-a436-5b646f30e6bb",
   "metadata": {},
   "outputs": [],
   "source": [
    "#Practical Control Flow Example\n",
    "scores=[23,55,78,90,35,66,75,95]\n",
    "passed=[score for score in scores if score>=55]\n",
    "print(passed)\n",
    "for score in passed:\n",
    "    if score>66:\n",
    "        print(f'execellent score: {score}')\n",
    "    else :\n",
    "        print(f'good score: {score}')\n",
    "        "
   ]
  },
  {
   "cell_type": "code",
   "execution_count": null,
   "id": "35955bca-b78f-48af-8ade-f3d325be2fb0",
   "metadata": {},
   "outputs": [],
   "source": [
    "#while\n",
    "i=0\n",
    "while i<=10:\n",
    "    print(i)\n",
    "    i+=2 #will print even numbers\n",
    "#break Statement\n",
    "#With the break statement we can stop the loop even if the while condition is true:\"\"\"\n",
    "i=1\n",
    "while i<=5:\n",
    "    print(i)\n",
    "    if i==3:\n",
    "      break\n",
    "    i+=1\n",
    "i=0\n",
    "while i<=5:\n",
    "    i+=1\n",
    "    if i==3:\n",
    "      break\n",
    "    print(i)\n",
    "  \n",
    "\n",
    "    "
   ]
  },
  {
   "cell_type": "code",
   "execution_count": 3,
   "id": "5fc1bdf8-4d60-40a8-8ada-cfac689e6f2d",
   "metadata": {},
   "outputs": [
    {
     "name": "stdout",
     "output_type": "stream",
     "text": [
      "1\n",
      "2\n",
      "4\n",
      "5\n",
      "6\n"
     ]
    }
   ],
   "source": [
    "#continue\n",
    "i=0\n",
    "while i<=5:\n",
    "    i+=1\n",
    "    if i==3:\n",
    "      continue\n",
    "    print(i)"
   ]
  },
  {
   "cell_type": "code",
   "execution_count": 1,
   "id": "c239b343-8477-45b1-994c-4940553a6f8a",
   "metadata": {},
   "outputs": [
    {
     "name": "stdout",
     "output_type": "stream",
     "text": [
      "1\n",
      "2\n",
      "3\n",
      "4\n",
      "5\n",
      "i is no longer less than 6\n"
     ]
    }
   ],
   "source": [
    "\n",
    "i = 1\n",
    "while i < 6:\n",
    "  print(i)\n",
    "  i += 1\n",
    "else:\n",
    "  print(\"i is no longer less than 6\")"
   ]
  },
  {
   "cell_type": "code",
   "execution_count": 6,
   "id": "9300f884-a207-4341-9f89-28a4d883d50b",
   "metadata": {},
   "outputs": [
    {
     "name": "stdout",
     "output_type": "stream",
     "text": [
      "i=0 , j=0\n",
      "i=0 , j=1\n",
      "i=1 , j=0\n",
      "i=1 , j=1\n",
      "i=2 , j=0\n",
      "i=2 , j=1\n"
     ]
    }
   ],
   "source": [
    "#nested loop\n",
    "'''The outer loop (for i in range(3)) runs 3 times, with i taking values 0, 1, and 2.\n",
    "For each iteration of i, the inner loop (for j in range(2)) runs 2 times, with j taking values 0 and 1.\n",
    "Inside the inner loop, the print() function displays the current values of i and j.'''\n",
    "for i in range(3):\n",
    "    for j in  range(2):\n",
    "      print(f'i={i} , j={j}')"
   ]
  },
  {
   "cell_type": "code",
   "execution_count": 8,
   "id": "79b7b182-b9b2-488e-985c-ccde8b6fd54c",
   "metadata": {},
   "outputs": [
    {
     "name": "stdout",
     "output_type": "stream",
     "text": [
      "a\n",
      "p\n",
      "p\n",
      "l\n",
      "e\n"
     ]
    }
   ],
   "source": [
    "for x in 'apple':\n",
    " print(x)"
   ]
  },
  {
   "cell_type": "code",
   "execution_count": 11,
   "id": "1c3fbc08-545a-402c-bde2-f4b023cb4d2d",
   "metadata": {},
   "outputs": [
    {
     "name": "stdout",
     "output_type": "stream",
     "text": [
      "apple\n",
      "banana\n"
     ]
    }
   ],
   "source": [
    "x=['apple', 'banana','cherry']\n",
    "for i in x:\n",
    "    print(i)\n",
    "    if i=='banana':\n",
    "     break"
   ]
  },
  {
   "cell_type": "code",
   "execution_count": 13,
   "id": "126ee4a9-8aaa-488b-8045-42553053e15a",
   "metadata": {},
   "outputs": [
    {
     "name": "stdout",
     "output_type": "stream",
     "text": [
      "apple\n",
      "mango\n",
      "kiwi\n",
      "cherry\n"
     ]
    }
   ],
   "source": [
    "x=['apple','mango','kiwi', 'banana','cherry']\n",
    "for i in x:\n",
    "    if i=='banana':\n",
    "     continue\n",
    "    print(i)\n",
    "\n"
   ]
  },
  {
   "cell_type": "code",
   "execution_count": 14,
   "id": "bffe1e4e-fc51-41b1-aef2-b8845c6832d1",
   "metadata": {},
   "outputs": [
    {
     "name": "stdout",
     "output_type": "stream",
     "text": [
      "1, apple\n",
      "1, banana\n",
      "1, cherry\n",
      "1, kiwi\n",
      "3, apple\n",
      "3, banana\n",
      "3, cherry\n",
      "3, kiwi\n",
      "5, apple\n",
      "5, banana\n",
      "5, cherry\n",
      "5, kiwi\n",
      "6, apple\n",
      "6, banana\n",
      "6, cherry\n",
      "6, kiwi\n"
     ]
    }
   ],
   "source": [
    "num=[1,3,5,6]\n",
    "fruits=['apple','banana','cherry','kiwi']\n",
    "for x in num:\n",
    "    for y in fruits:\n",
    "        print(f'{x}, {y}')"
   ]
  },
  {
   "cell_type": "code",
   "execution_count": 19,
   "id": "ea32b19f-b00f-4ab3-9db9-229d001c6eb4",
   "metadata": {},
   "outputs": [
    {
     "name": "stdout",
     "output_type": "stream",
     "text": [
      "[1, 3, 5, 7, 9]\n",
      "[0, 2, 4, 6, 8]\n"
     ]
    }
   ],
   "source": [
    "#shorter way to create list\n",
    "num=[x for x in range(10) if x % 2!=0] #printing odd numbers\n",
    "print(num)\n",
    "num=[x for x in range(10) if x % 2==0] #printing odd numbers\n",
    "print(num)"
   ]
  },
  {
   "cell_type": "code",
   "execution_count": 20,
   "id": "78f2b946-6efd-4d88-81e9-ed4c7ebaa113",
   "metadata": {},
   "outputs": [
    {
     "name": "stdout",
     "output_type": "stream",
     "text": [
      "10\n",
      "20\n",
      "30\n"
     ]
    }
   ],
   "source": [
    "\"\"\"Iterators and Iterables\n",
    "Iterable → Any object that can be looped over (list, tuple, set).\n",
    "Iterator → An object that produces values one at a time using next().\n",
    "\"\"\"\n",
    "my_list = [10, 20, 30]\n",
    "iterator = iter(my_list)\n",
    "\n",
    "print(next(iterator))\n",
    "print(next(iterator))\n",
    "print(next(iterator))"
   ]
  },
  {
   "cell_type": "code",
   "execution_count": 24,
   "id": "aaeb26a8-80c6-40d9-8433-a44029c7513a",
   "metadata": {},
   "outputs": [
    {
     "name": "stdin",
     "output_type": "stream",
     "text": [
      "enter a number N 6\n"
     ]
    },
    {
     "name": "stdout",
     "output_type": "stream",
     "text": [
      "1\n",
      "2\n",
      "3\n",
      "4\n",
      "5\n",
      "6\n"
     ]
    }
   ],
   "source": [
    "#task1\n",
    "num=int(input('enter a number N'))\n",
    "for i in range(1,num+1):\n",
    "     print(i)"
   ]
  },
  {
   "cell_type": "code",
   "execution_count": 26,
   "id": "f906137d-e18b-4709-889f-ae5327b3e072",
   "metadata": {},
   "outputs": [
    {
     "name": "stdin",
     "output_type": "stream",
     "text": [
      "enter a number 2\n"
     ]
    },
    {
     "name": "stdout",
     "output_type": "stream",
     "text": [
      "2x1=2\n",
      "2x2=4\n",
      "2x3=6\n",
      "2x4=8\n",
      "2x5=10\n",
      "2x6=12\n",
      "2x7=14\n",
      "2x8=16\n",
      "2x9=18\n"
     ]
    }
   ],
   "source": [
    "#task2\n",
    "num=int(input('enter a number'))\n",
    "for i in range(1,10):\n",
    "    print(f'{num}x{i}={num*i}')"
   ]
  },
  {
   "cell_type": "code",
   "execution_count": 2,
   "id": "031788b8-feaf-4f2a-8dd3-7e2d86eb7398",
   "metadata": {},
   "outputs": [
    {
     "name": "stdin",
     "output_type": "stream",
     "text": [
      "enter a number 5\n"
     ]
    },
    {
     "name": "stdout",
     "output_type": "stream",
     "text": [
      "sum  of numbers:5\n"
     ]
    }
   ],
   "source": [
    "#task3\n",
    "num=int(input('enter a number'))\n",
    "sum=0\n",
    "while num>0:\n",
    "    sum+= num % 10\n",
    "    num //= 10\n",
    "\n",
    "print(f'sum  of numbers:{sum}')"
   ]
  },
  {
   "cell_type": "code",
   "execution_count": null,
   "id": "874cb427-5b87-448c-a116-f70029eee5d3",
   "metadata": {},
   "outputs": [
    {
     "name": "stdin",
     "output_type": "stream",
     "text": [
      "enter a number 67\n"
     ]
    },
    {
     "name": "stdout",
     "output_type": "stream",
     "text": [
      "less than random no\n"
     ]
    },
    {
     "name": "stdin",
     "output_type": "stream",
     "text": [
      "enter a number 67\n"
     ]
    },
    {
     "name": "stdout",
     "output_type": "stream",
     "text": [
      "less than random no\n"
     ]
    },
    {
     "name": "stdin",
     "output_type": "stream",
     "text": [
      "enter a number 100\n"
     ]
    },
    {
     "name": "stdout",
     "output_type": "stream",
     "text": [
      "more than random number\n"
     ]
    },
    {
     "name": "stdin",
     "output_type": "stream",
     "text": [
      "enter a number 35\n"
     ]
    },
    {
     "name": "stdout",
     "output_type": "stream",
     "text": [
      "less than random no\n"
     ]
    },
    {
     "name": "stdin",
     "output_type": "stream",
     "text": [
      "enter a number 89\n"
     ]
    },
    {
     "name": "stdout",
     "output_type": "stream",
     "text": [
      "less than random no\n"
     ]
    }
   ],
   "source": [
    "#task4\n",
    "import random\n",
    "random_int=random.randint(1,100)\n",
    "while True:\n",
    "    guess=int(input('enter a number'))\n",
    "    if guess<random_int:\n",
    "        print('less than random no')\n",
    "    elif guess>random_int:\n",
    "        print('more than random number')\n",
    "    else:\n",
    "        print('exact number!congo')\n"
   ]
  },
  {
   "cell_type": "code",
   "execution_count": null,
   "id": "7b2043d5-b366-4e28-815d-a4e648e66b38",
   "metadata": {},
   "outputs": [],
   "source": []
  }
 ],
 "metadata": {
  "kernelspec": {
   "display_name": "Python 3 (ipykernel)",
   "language": "python",
   "name": "python3"
  },
  "language_info": {
   "codemirror_mode": {
    "name": "ipython",
    "version": 3
   },
   "file_extension": ".py",
   "mimetype": "text/x-python",
   "name": "python",
   "nbconvert_exporter": "python",
   "pygments_lexer": "ipython3",
   "version": "3.11.4"
  }
 },
 "nbformat": 4,
 "nbformat_minor": 5
}
