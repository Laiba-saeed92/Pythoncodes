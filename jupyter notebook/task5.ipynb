{
 "cells": [
  {
   "cell_type": "code",
   "execution_count": 13,
   "id": "3df85dc7-425a-4c87-880a-f285b93f6241",
   "metadata": {},
   "outputs": [
    {
     "name": "stdout",
     "output_type": "stream",
     "text": [
      "<class 'int'>\n",
      "0\n",
      "<class 'list'>\n",
      "[1, 2, 3, 4]\n",
      "True\n",
      "True\n",
      "140721770521512\n",
      "10\n",
      "10\n"
     ]
    }
   ],
   "source": [
    "#object oriented programming(oop) in python\n",
    "x=0\n",
    "print(type(x))\n",
    "print(x.bit_length()) #method if declared in a class if outside class then its called function\n",
    "y=[1,2,3]\n",
    "print(type(y))\n",
    "y.append(4) #list class hain method i.e append\n",
    "print(y)\n",
    "print(isinstance(x,object))\n",
    "print(isinstance(y,object)) #y is a object of class list\n",
    "x=5\n",
    "print(id(x))\n",
    "def add(a,b): #here add is a function\n",
    " return a +b\n",
    "result=add(4,6)\n",
    "print(result)\n",
    "class calulator:\n",
    "    def add (self,a,b): #here add is amethod\n",
    "        return a+b\n",
    "calc=calulator() #object or instance calc\n",
    "reult=calc.add(5,3)\n",
    "print(result)"
   ]
  },
  {
   "cell_type": "code",
   "execution_count": 10,
   "id": "2f5a6001-ac5b-4460-98a0-83000a81e820",
   "metadata": {},
   "outputs": [
    {
     "name": "stdout",
     "output_type": "stream",
     "text": [
      "This car moves with a high speed\n",
      "This car moves with a high acceleration\n",
      "This is polo , gen1\n",
      "This is yoyo , gen2\n"
     ]
    }
   ],
   "source": [
    "#self represents the instance of the class, allowing you to store instance-specific attributes.\n",
    "#Using self ensures that attributes belong to the object and not just exist as local variables inside __init__.\n",
    "#Once an attribute is set using self, it can be accessed and modified by other methods in the class.\n",
    "class car:\n",
    "    def __init__ (self, brand, model,color):\n",
    "      self.brand=brand\n",
    "      self.model=model\n",
    "      self.color=color\n",
    "    def speed(self):\n",
    "        print('This car moves with a high speed')\n",
    "    def acceleration(self):\n",
    "        print('This car moves with a high acceleration')\n",
    "obj=car('toyota', '2003', 'white')\n",
    "obj.speed()\n",
    "obj.acceleration()\n",
    "#other example\n",
    "class dog:\n",
    "    def __init__ (self, name, breed):\n",
    "     self.name=name\n",
    "     self.breed=breed\n",
    "    def bark(self):\n",
    "     print(f\"This is {self.name} , {self.breed}\")\n",
    "\n",
    "obj1=dog('polo', 'gen1')\n",
    "obj2=dog('yoyo', 'gen2')\n",
    "obj1.bark()\n",
    "obj2.bark()\n"
   ]
  },
  {
   "cell_type": "code",
   "execution_count": 11,
   "id": "18352cc0-6f7c-40d0-89a3-e7c4f7b77d40",
   "metadata": {},
   "outputs": [
    {
     "name": "stdout",
     "output_type": "stream",
     "text": [
      "Student object created!\n"
     ]
    },
    {
     "data": {
      "text/plain": [
       "'Name: Alice, Roll No: 12, Grade: A'"
      ]
     },
     "execution_count": 11,
     "metadata": {},
     "output_type": "execute_result"
    }
   ],
   "source": [
    "#other example\n",
    "class Student:\n",
    "    def __init__(self):\n",
    "        # This method runs automatically whenever an object is created\n",
    "        self.name = 'Alice'\n",
    "        self.roll_number = 12\n",
    "        self.grade = 'A'\n",
    "        print(\"Student object created!\")\n",
    "\n",
    "    def get_info(self):\n",
    "        return f\"Name: {self.name}, Roll No: {self.roll_number}, Grade: {self.grade}\"\n",
    "# Creating objects\n",
    "student_a = Student()\n",
    "\n",
    "student_a.get_info()"
   ]
  },
  {
   "cell_type": "code",
   "execution_count": 17,
   "id": "f3d84e17-ffc7-42c3-b2c5-870e8781585a",
   "metadata": {},
   "outputs": [
    {
     "name": "stdout",
     "output_type": "stream",
     "text": [
      "File opened in write mode.\n",
      "File test.txt is closed.\n"
     ]
    }
   ],
   "source": [
    "# Constructor and Destructor\n",
    "A destructor might be used to close files or network connections, but context managers are often preferred\n",
    "\n",
    "class FileManager:\n",
    "    def __init__(self, filename):\n",
    "        self.filename = filename\n",
    "        self.file = open(filename, 'w')\n",
    "        print(\"File opened in write mode.\")\n",
    "\n",
    "    def write_data(self, data):\n",
    "        self.file.write(data)\n",
    "\n",
    "    def __del__(self):\n",
    "        # Destructor method\n",
    "        if self.file:\n",
    "            self.file.close()\n",
    "            print(f\"File {self.filename} is closed.\")\n",
    "\n",
    "# Usage\n",
    "manager = FileManager(\"test.txt\")\n",
    "manager.write_data(\"Hello World!\")"
   ]
  },
  {
   "cell_type": "code",
   "execution_count": 23,
   "id": "7f8a490a-058f-4079-800a-5d2fb389b50f",
   "metadata": {},
   "outputs": [
    {
     "name": "stdout",
     "output_type": "stream",
     "text": [
      "constructor is called\n",
      "destructor is called\n"
     ]
    }
   ],
   "source": [
    "class manager:\n",
    " def __init__(self):\n",
    "    print('constructor is called')\n",
    " def __del__(self):\n",
    "    print('destructor is called')\n",
    "obj=manager()\n",
    "\n"
   ]
  },
  {
   "cell_type": "code",
   "execution_count": 1,
   "id": "b7d20888-7661-413c-b320-defa697e4fc2",
   "metadata": {},
   "outputs": [
    {
     "name": "stdout",
     "output_type": "stream",
     "text": [
      "<class '__main__.user'>\n",
      "True\n",
      "True\n",
      "vaneeza\n",
      "True\n",
      "laiba\n",
      "Areeba@123\n",
      "None\n"
     ]
    }
   ],
   "source": [
    "#builtin class functions\n",
    "class user:\n",
    "    def __init__(self, username):\n",
    "     self.username=username\n",
    "obj=user('vaneeza')\n",
    "print(type(obj))\n",
    "print(isinstance(obj,user))\n",
    "print(hasattr(obj,'username'))\n",
    "print(getattr(obj,'username'))\n",
    "setattr(obj,'name','laiba')\n",
    "print(hasattr(obj,'name'))\n",
    "print(getattr(obj,'name'))\n",
    "setattr(obj,'email','Areeba@123')\n",
    "print(getattr(obj,'email'))\n",
    "print(delattr(obj,'name'))\n",
    "#print(getattr(obj,'name'))\n",
    "\n"
   ]
  },
  {
   "cell_type": "code",
   "execution_count": 43,
   "id": "e11b835d-e252-42c5-8196-0b92f8aa70cb",
   "metadata": {},
   "outputs": [
    {
     "name": "stdout",
     "output_type": "stream",
     "text": [
      "car\n",
      "__main__\n",
      "this is car class\n",
      "{'model': '2002'}\n"
     ]
    }
   ],
   "source": [
    "#built-in class attributes\n",
    "'''Original Definition\n",
    "Python classes come with some special attributes by default, such as `__name__`, `__module__`, `__dict__`, `__doc__`, etc.'''\n",
    "class car:\n",
    "    \"\"\"this is car class\"\"\"\n",
    "    def __init__(self, model):\n",
    "        self.model=model\n",
    "print(car.__name__)\n",
    "print(car.__module__)\n",
    "print(car.__doc__)\n",
    "obj=car('2002')\n",
    "print(obj.__dict__)\n"
   ]
  },
  {
   "cell_type": "code",
   "execution_count": null,
   "id": "555b8f69-5e4f-4b38-b546-08fece32afcd",
   "metadata": {},
   "outputs": [],
   "source": [
    "#instance variable and instance methods\n"
   ]
  },
  {
   "cell_type": "code",
   "execution_count": 13,
   "id": "0e658be7-e1fd-4284-b280-a1655bbc1166",
   "metadata": {},
   "outputs": [
    {
     "name": "stdout",
     "output_type": "stream",
     "text": [
      "500 deposited. New balance: 1500\n",
      "1000 withdrawn. New balance: 500\n"
     ]
    }
   ],
   "source": [
    "#'\n",
    "class bankaccount:\n",
    "    def __init__(self,accountno, balance):\n",
    "        self.accountno=accountno\n",
    "        self.balance=balance\n",
    "    def deposit(self,amount):\n",
    "        self.balance +=amount #+= is a shorthand for self.balance = self.balance + amount, which means the new balance is the old balance plus the deposited amount.\n",
    "        print(f\"{amount} deposited. New balance: {self.balance}\")\n",
    "    def withdrawn(self,amount):\n",
    "        if amount<=self.balance:\n",
    "            self.balance-=amount\n",
    "            print(f'{amount} withdrawn. New balance: {self.balance}')\n",
    "       \n",
    "account1= bankaccount(123, 1000)\n",
    "account2=bankaccount(456,500)\n",
    "account1.deposit(500)\n",
    "account1.withdrawn(1000)\n",
    "#account2.deposit(500)\n",
    "#account2.withdrawn(1000)\n"
   ]
  },
  {
   "cell_type": "code",
   "execution_count": 17,
   "id": "f3b69207-9d78-4c0c-8b7a-4f9402875313",
   "metadata": {},
   "outputs": [
    {
     "name": "stdout",
     "output_type": "stream",
     "text": [
      "the name is: alice\n",
      "the name is: bob\n",
      "new name of company is: efg\n"
     ]
    },
    {
     "data": {
      "text/plain": [
       "1"
      ]
     },
     "execution_count": 17,
     "metadata": {},
     "output_type": "execute_result"
    }
   ],
   "source": [
    "#class variables and class methods\n",
    "class employee:\n",
    " company_name='abc'\n",
    " employee_count=0\n",
    " def __init__(self, name):\n",
    "       self.name= name  #name is instance variable so accessed by self.(instance of class)\n",
    "       print('the name is:', name)\n",
    "       employee.employee_count=+1\n",
    " @classmethod\n",
    " def update_company(cls, new_name): #class method start with cls as first parameter\n",
    "      cls.company_name= new_name\n",
    "      print('new name of company is:', cls.company_name)\n",
    " @classmethod\n",
    " def get_employee_count(cls):\n",
    "      return cls.employee_count\n",
    "obj1=employee('alice')\n",
    "obj2=employee('bob')\n",
    "employee.update_company('efg')\n",
    "employee.get_employee_count()\n",
    "\n",
    "\n",
    "    \n",
    "       "
   ]
  },
  {
   "cell_type": "code",
   "execution_count": 29,
   "id": "9a166349-8a94-4c0e-94fc-58b8a23f17f1",
   "metadata": {},
   "outputs": [
    {
     "name": "stdout",
     "output_type": "stream",
     "text": [
      "Method add called.\n",
      "7\n",
      "Method multiply called.\n",
      "35\n"
     ]
    }
   ],
   "source": [
    "#decorator is a function that takes another function as an argument and extends its functionality withput modifying it directly\n",
    "def log_method_call(func):\n",
    "    def wrapper(*args ,**kwargs): #defines a nested function inside the log_method_call decorator.\n",
    "        #wrapper is a function that replaces the original function when the decorator @log_method_call is applied.\n",
    "      print(f'Method {func.__name__} called.')\n",
    "      return func(*args, **kwargs) #*args Captures any number of positional arguments into a tuple.wrapper(1, 2, 3) → args = (1, 2, 3)\n",
    "    return wrapper                #**kwargs Captures any number of keyword arguments into a dictionary.wrapper(a=10, b=20) → kwargs = {'a': 10, 'b': 20}\n",
    "class calculator:\n",
    "    @log_method_call\n",
    "    def add(self, x,y):\n",
    "        return x+y\n",
    "    @log_method_call\n",
    "    def multiply(self, a,b):\n",
    "        multiply= a*b\n",
    "        return multiply\n",
    "        #return a*b\n",
    "obj=calculator()\n",
    "print(obj.add(2,5))\n",
    "print(obj.multiply(5,7))\n"
   ]
  },
  {
   "cell_type": "code",
   "execution_count": null,
   "id": "1129d9c6-e09a-47c7-9405-68a2e153d2c7",
   "metadata": {},
   "outputs": [],
   "source": []
  },
  {
   "cell_type": "code",
   "execution_count": null,
   "id": "8ca731ed-fc55-40b5-9341-627a22ea1bbb",
   "metadata": {},
   "outputs": [],
   "source": []
  }
 ],
 "metadata": {
  "kernelspec": {
   "display_name": "Python 3 (ipykernel)",
   "language": "python",
   "name": "python3"
  },
  "language_info": {
   "codemirror_mode": {
    "name": "ipython",
    "version": 3
   },
   "file_extension": ".py",
   "mimetype": "text/x-python",
   "name": "python",
   "nbconvert_exporter": "python",
   "pygments_lexer": "ipython3",
   "version": "3.11.4"
  }
 },
 "nbformat": 4,
 "nbformat_minor": 5
}
