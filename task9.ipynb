{
 "cells": [
  {
   "cell_type": "code",
   "execution_count": 2,
   "id": "9756d8cc-e60c-4191-9a30-bd08ea9cdb78",
   "metadata": {},
   "outputs": [],
   "source": [
    "#NUMPY\n",
    "import numpy as np\n"
   ]
  },
  {
   "cell_type": "code",
   "execution_count": 5,
   "id": "35ff909a-b078-4cf4-9b6e-7b434f07f948",
   "metadata": {},
   "outputs": [
    {
     "name": "stdout",
     "output_type": "stream",
     "text": [
      "[1, 2, 3, 4, 5]\n",
      "[1 2 3 4 5]\n",
      "<class 'list'>\n",
      "<class 'numpy.ndarray'>\n",
      "[1 2 3 4 5 6 7]\n"
     ]
    }
   ],
   "source": [
    "#from python lists\n",
    "#creating 1d array\n",
    "list_1d=[1,2,3,4,5]\n",
    "numpy_1d= np.array(list_1d)\n",
    "print(list_1d)\n",
    "print(numpy_1d)\n",
    "print(type(list_1d))\n",
    "print(type(numpy_1d))\n",
    "#tuples\n",
    "tuple_1d=(1,2,3,4,5,6,7)\n",
    "array_1d=np.array(tuple_1d)\n",
    "print(array_1d)\n"
   ]
  },
  {
   "cell_type": "code",
   "execution_count": 8,
   "id": "d95b3b1f-d173-4420-ac0d-aa28eb7ab688",
   "metadata": {},
   "outputs": [
    {
     "name": "stdout",
     "output_type": "stream",
     "text": [
      "[[1, 2, 3, 4, 5], [6, 7, 8, 9, 10]]\n",
      "[[ 1  2  3  4  5]\n",
      " [ 6  7  8  9 10]]\n"
     ]
    }
   ],
   "source": [
    "#creating 2d array\n",
    "list_2d=[[1,2,3,4,5],[6,7,8,9,10]]\n",
    "array_2d=np.array(list_2d)\n",
    "print(list_2d)\n",
    "print(array_2d)"
   ]
  },
  {
   "cell_type": "code",
   "execution_count": 14,
   "id": "ac3a734c-b36e-47fb-b451-4bfc385141d4",
   "metadata": {},
   "outputs": [
    {
     "name": "stdout",
     "output_type": "stream",
     "text": [
      "[1. 5. 7. 9. 3.]\n"
     ]
    }
   ],
   "source": [
    "#with specific datatype\n",
    "list_1d=[1,5,7,9,3]\n",
    "numpy_1d= np.array(list_1d, dtype= np.float32)\n",
    "#numpy_1d= np.array([1,3,5,7], dtype= np.float32)\n",
    "print(numpy_1d)"
   ]
  },
  {
   "cell_type": "code",
   "execution_count": 21,
   "id": "feb4f3b5-48f1-4638-93f9-78a2fd668c6d",
   "metadata": {},
   "outputs": [
    {
     "name": "stdout",
     "output_type": "stream",
     "text": [
      "[[0. 0. 0.]\n",
      " [0. 0. 0.]\n",
      " [0. 0. 0.]]\n",
      "[[1. 1. 1.]\n",
      " [1. 1. 1.]]\n",
      "[[2 2 2]\n",
      " [2 2 2]]\n",
      "[ 5  7  9 11 13 15 17 19 21 23 25 27 29 31 33 35 37 39 41 43 45 47 49]\n",
      "[ 5.    8.75 12.5  16.25 20.  ]\n",
      "[[1. 0. 0.]\n",
      " [0. 1. 0.]\n",
      " [0. 0. 1.]]\n"
     ]
    }
   ],
   "source": [
    "#using builtin functions\n",
    "zeros= np.zeros((3,3))\n",
    "print(zeros)\n",
    "ones=np.ones((2,3))\n",
    "print(ones)\n",
    "full_array= np.full((2,3), 2)\n",
    "print(full_array)\n",
    "my_arr=np.arange(5,50,2)\n",
    "print(my_arr)\n",
    "lin_arr = np.linspace(5, 20, 5)\n",
    "print(lin_arr)\n",
    "identity_arr= np.eye(3)\n",
    "print(identity_arr)"
   ]
  },
  {
   "cell_type": "code",
   "execution_count": 32,
   "id": "05db120b-a787-427d-a360-5980c7c0d29b",
   "metadata": {},
   "outputs": [
    {
     "name": "stdout",
     "output_type": "stream",
     "text": [
      "[[0.48933988 0.31700227 0.50444035]\n",
      " [0.64188508 0.8287939  0.78821275]]\n",
      "[ 0.10765244 -0.2639743  -0.61358563]\n",
      "[[13 14]\n",
      " [ 7 19]\n",
      " [ 6 19]]\n",
      "[14  9  9 18  6]\n",
      "[[6.59126274 3.61997288 6.88389743]\n",
      " [6.14839117 2.77088331 9.40821592]]\n"
     ]
    }
   ],
   "source": [
    "#RANDOM ARRAYs\n",
    "#we use np.random for random values in arrays\n",
    "random_arr=np.random.rand(2,3)\n",
    "print(random_arr)\n",
    "random_array=np.random.randn(3) #r 2,3 any number 2 rows and 3 colums\n",
    "print(random_array)\n",
    "randn=np.random.randint(1,20,(3,2)) #3 rows and 2 columns\n",
    "print(randn)\n",
    "randn=np.random.randint(1,20,5) #5 columns\n",
    "print(randn)\n",
    "randomm=np.random.uniform(2,10,(2,3))\n",
    "print(randomm)\n",
    "\n"
   ]
  },
  {
   "cell_type": "code",
   "execution_count": 33,
   "id": "8862eb29-7f86-49a9-b724-3ec4c82b3a6b",
   "metadata": {},
   "outputs": [
    {
     "name": "stdout",
     "output_type": "stream",
     "text": [
      "Shape: (2, 3)\n",
      "Data type: int64\n",
      "Size: 6\n",
      "Dimensions: 2\n"
     ]
    }
   ],
   "source": [
    "#ARRAY attributes and methods\n",
    "arr = np.array([[1, 2, 3], [4, 5, 6]])\n",
    "print(\"Shape:\", arr.shape)\n",
    "print(\"Data type:\", arr.dtype)\n",
    "print(\"Size:\", arr.size)\n",
    "print(\"Dimensions:\", arr.ndim)"
   ]
  },
  {
   "cell_type": "code",
   "execution_count": 38,
   "id": "ddf9bc51-44f2-4d96-a1c2-cd5760ffc929",
   "metadata": {},
   "outputs": [
    {
     "name": "stdout",
     "output_type": "stream",
     "text": [
      "Indices: (array([1, 3]),)\n",
      "Values: [4 5]\n",
      "[1 2 3 4 5]\n",
      "[[0 1 2]\n",
      " [3 4 5]]\n",
      "[0 1 2 3 4 5]\n"
     ]
    }
   ],
   "source": [
    "#methods of array(max(), min(), reshape(), np.where(),np.unique\n",
    "arr = np.array([1, 4, 2, 5, 3])\n",
    "indices = np.where(arr > 3)\n",
    "print(\"Indices:\", indices)\n",
    "print(\"Values:\", arr[indices])\n",
    "arr = np.array([1,2,5, 4, 2, 5, 3])\n",
    "arr_unique= np.unique(arr)\n",
    "print(arr_unique)\n",
    "arr_reshape= np.arange(6).reshape(2,3)\n",
    "print(arr_reshape)\n",
    "arr=np.arange(6)\n",
    "print(arr)\n"
   ]
  },
  {
   "cell_type": "code",
   "execution_count": 41,
   "id": "52127def-dabc-47da-95be-e27a5d2696b5",
   "metadata": {},
   "outputs": [
    {
     "name": "stdout",
     "output_type": "stream",
     "text": [
      "[6 7 8 9]\n",
      "Multiply by 3: [18 21 24 27]\n",
      "Multiply by 5: [-1  0  1  2]\n",
      "Division by 3: [2.         2.33333333 2.66666667 3.        ]\n",
      "Square: [36 49 64 81]\n"
     ]
    }
   ],
   "source": [
    "#Element wise operations\n",
    "arr = np.array([1, 2, 3, 4])+5\n",
    "print(arr)\n",
    "print(\"Multiply by 3:\", arr * 3)\n",
    "print(\"Multiply by 5:\", arr -7)\n",
    "print(\"Division by 3:\", arr / 3)\n",
    "print(\"Square:\", arr ** 2)"
   ]
  },
  {
   "cell_type": "code",
   "execution_count": 42,
   "id": "7caca1c8-1cf9-42f2-a803-8236b6b703a9",
   "metadata": {},
   "outputs": [
    {
     "name": "stdout",
     "output_type": "stream",
     "text": [
      "Original: [1 2 3]\n",
      "Copy: [99  2  3]\n"
     ]
    }
   ],
   "source": [
    "arr = np.array([1, 2, 3])\n",
    "arr_copy = arr.copy()\n",
    "arr_copy[0] = 99\n",
    "print(\"Original:\", arr)\n",
    "print(\"Copy:\", arr_copy)"
   ]
  },
  {
   "cell_type": "code",
   "execution_count": 58,
   "id": "9dcc9b07-035a-42d5-848a-c9ed1d761e37",
   "metadata": {},
   "outputs": [
    {
     "name": "stdout",
     "output_type": "stream",
     "text": [
      "[[1 2 3]\n",
      " [4 5 6]\n",
      " [3 5 7]\n",
      " [7 8 9]]\n",
      "[array([1, 2, 3]), array([4, 5, 6])]\n",
      "[4 5 7 8]\n"
     ]
    }
   ],
   "source": [
    "#concetination\n",
    "arr1=[[1,2,3],[4,5,6]]\n",
    "arr2=[[3,5,7],[7,8,9]]\n",
    "array=np.array((arr1,arr2))\n",
    "comb=np.concatenate((arr1,arr2), axis=0)\n",
    "print(comb)\n",
    "#splitting\n",
    "array_split=np.array([1,2,3,4,5,6])\n",
    "arrayy= np.split(array_split,2)\n",
    "print(arrayy)\n",
    "#slicing\n",
    "array=[1,2,4,5,7,8,9,5,6]\n",
    "array_slice=np.array(array)\n",
    "print(array_slice[2:6])\n"
   ]
  },
  {
   "cell_type": "code",
   "execution_count": 61,
   "id": "51fb6c49-543d-40a9-94ae-11253aa722fd",
   "metadata": {},
   "outputs": [
    {
     "name": "stdout",
     "output_type": "stream",
     "text": [
      "[[10 20]\n",
      " [30 40]]\n",
      "[5 7 9]\n"
     ]
    }
   ],
   "source": [
    "#broadcasting\n",
    "arr = np.array([[1, 2], [3, 4]])\n",
    "result = arr * 10\n",
    "print(result)\n",
    "matrix=[1,2,3]\n",
    "mat=np.array(matrix)\n",
    "vector=[4,5,6]\n",
    "vec=np.array(vector)\n",
    "add=mat+vec\n",
    "print(add)"
   ]
  },
  {
   "cell_type": "code",
   "execution_count": 2,
   "id": "4f179751-30a9-4c24-984a-0ed9ec162fc4",
   "metadata": {},
   "outputs": [
    {
     "data": {
      "text/plain": [
       "(2, 3)"
      ]
     },
     "execution_count": 2,
     "metadata": {},
     "output_type": "execute_result"
    }
   ],
   "source": [
    "\n",
    "a= np.array([[1,2,3], [4,5,6]])\n",
    "a.shape"
   ]
  },
  {
   "cell_type": "code",
   "execution_count": 7,
   "id": "2bafc592-6b38-4f8b-b7a6-873ab86d5523",
   "metadata": {},
   "outputs": [
    {
     "name": "stdout",
     "output_type": "stream",
     "text": [
      "[1 2 3 4 5 6]\n"
     ]
    }
   ],
   "source": [
    "a=np.array([1,2,3,4,5,6,])\n",
    "print(a)"
   ]
  },
  {
   "cell_type": "code",
   "execution_count": 4,
   "id": "50e469a4-58c1-4cdd-a7e2-986586e27de1",
   "metadata": {},
   "outputs": [
    {
     "data": {
      "text/plain": [
       "np.int64(1)"
      ]
     },
     "execution_count": 4,
     "metadata": {},
     "output_type": "execute_result"
    }
   ],
   "source": [
    "a[0]"
   ]
  },
  {
   "cell_type": "code",
   "execution_count": 5,
   "id": "73d77676-d17e-46db-8c09-d95baff7857f",
   "metadata": {},
   "outputs": [],
   "source": [
    "a[0]=10"
   ]
  },
  {
   "cell_type": "code",
   "execution_count": 6,
   "id": "a1c7f11e-276a-48d2-abf4-fd477ba2ab35",
   "metadata": {},
   "outputs": [
    {
     "name": "stdout",
     "output_type": "stream",
     "text": [
      "[10  2  3  4  5  6]\n"
     ]
    }
   ],
   "source": [
    "print(a)"
   ]
  },
  {
   "cell_type": "code",
   "execution_count": 11,
   "id": "893999d2-0513-4d5a-9b47-6c6fdae63852",
   "metadata": {},
   "outputs": [
    {
     "data": {
      "text/plain": [
       "array([1, 2, 3])"
      ]
     },
     "execution_count": 11,
     "metadata": {},
     "output_type": "execute_result"
    }
   ],
   "source": [
    "a[:3]\n"
   ]
  },
  {
   "cell_type": "code",
   "execution_count": 10,
   "id": "e4823cc6-b7a2-4133-8938-c0c3b5cb17d1",
   "metadata": {},
   "outputs": [
    {
     "data": {
      "text/plain": [
       "array([1, 2, 3, 4, 5, 6])"
      ]
     },
     "execution_count": 10,
     "metadata": {},
     "output_type": "execute_result"
    }
   ],
   "source": [
    "a[0:]"
   ]
  },
  {
   "cell_type": "code",
   "execution_count": 12,
   "id": "25243f51-8f5a-4405-afaa-569023d8bf6a",
   "metadata": {},
   "outputs": [
    {
     "name": "stdout",
     "output_type": "stream",
     "text": [
      "[4 5 6]\n"
     ]
    }
   ],
   "source": [
    "b=a[3:]\n",
    "print(b)"
   ]
  },
  {
   "cell_type": "code",
   "execution_count": 15,
   "id": "dad8c69e-d64c-40eb-92bb-6e8414597ab4",
   "metadata": {},
   "outputs": [
    {
     "name": "stdout",
     "output_type": "stream",
     "text": [
      "[40  5  6]\n"
     ]
    }
   ],
   "source": [
    "b[0]= 40\n",
    "print(b)"
   ]
  },
  {
   "cell_type": "code",
   "execution_count": 17,
   "id": "094765f9-f0e9-46da-9f11-5767b313b2df",
   "metadata": {},
   "outputs": [
    {
     "name": "stdout",
     "output_type": "stream",
     "text": [
      "[[ 1  2  3  4  5]\n",
      " [ 4  5  6  7  8]\n",
      " [ 8 90 55 10 15]]\n"
     ]
    }
   ],
   "source": [
    "a=np.array([[1,2,3,4,5], [4,5,6,7,8],[8,90,55,10,15]])\n",
    "print(a)"
   ]
  },
  {
   "cell_type": "code",
   "execution_count": 18,
   "id": "44721fbc-98ab-42fe-bb1a-63215a6081c6",
   "metadata": {},
   "outputs": [
    {
     "data": {
      "text/plain": [
       "np.int64(7)"
      ]
     },
     "execution_count": 18,
     "metadata": {},
     "output_type": "execute_result"
    }
   ],
   "source": [
    "a[1,3]"
   ]
  },
  {
   "cell_type": "code",
   "execution_count": 19,
   "id": "3b828989-94e6-4a77-b16a-18f13b59a718",
   "metadata": {},
   "outputs": [
    {
     "data": {
      "text/plain": [
       "dtype('int64')"
      ]
     },
     "execution_count": 19,
     "metadata": {},
     "output_type": "execute_result"
    }
   ],
   "source": [
    "a.dtype"
   ]
  },
  {
   "cell_type": "code",
   "execution_count": 24,
   "id": "ac3d3528-924d-412a-ab9e-93738d67bf1d",
   "metadata": {},
   "outputs": [
    {
     "data": {
      "text/plain": [
       "array([0., 0., 0.])"
      ]
     },
     "execution_count": 24,
     "metadata": {},
     "output_type": "execute_result"
    }
   ],
   "source": [
    "np.zeros(3) #means specify shape of the array , 1-dimentional array with 3 elements"
   ]
  },
  {
   "cell_type": "code",
   "execution_count": 33,
   "id": "dafac00b-9bfb-41c0-a42d-0d653abf488d",
   "metadata": {},
   "outputs": [
    {
     "data": {
      "text/plain": [
       "array([1., 1.])"
      ]
     },
     "execution_count": 33,
     "metadata": {},
     "output_type": "execute_result"
    }
   ],
   "source": [
    "np.ones(2)"
   ]
  },
  {
   "cell_type": "code",
   "execution_count": 28,
   "id": "51640edf-dd01-4441-8283-2b865aa5f132",
   "metadata": {},
   "outputs": [
    {
     "data": {
      "text/plain": [
       "array([0., 0.])"
      ]
     },
     "execution_count": 28,
     "metadata": {},
     "output_type": "execute_result"
    }
   ],
   "source": [
    "np.empty(2)"
   ]
  },
  {
   "cell_type": "code",
   "execution_count": 29,
   "id": "c3f616ef-390d-4444-acad-7d76a9fcc8fc",
   "metadata": {},
   "outputs": [
    {
     "data": {
      "text/plain": [
       "array([0, 1, 2, 3])"
      ]
     },
     "execution_count": 29,
     "metadata": {},
     "output_type": "execute_result"
    }
   ],
   "source": [
    "np.arange(4)"
   ]
  },
  {
   "cell_type": "code",
   "execution_count": 36,
   "id": "4ee32963-cd00-495e-94f6-a4ce0ef8b5f2",
   "metadata": {},
   "outputs": [
    {
     "data": {
      "text/plain": [
       "array([ 2,  4,  6,  8, 10, 12, 14, 16, 18, 20, 22, 24, 26, 28, 30, 32, 34,\n",
       "       36, 38, 40, 42, 44, 46, 48, 50, 52, 54, 56, 58, 60, 62, 64, 66, 68,\n",
       "       70, 72, 74, 76, 78, 80, 82, 84, 86, 88, 90, 92, 94, 96, 98])"
      ]
     },
     "execution_count": 36,
     "metadata": {},
     "output_type": "execute_result"
    }
   ],
   "source": [
    "np.arange(2,100,2) #2 is the starting 10 is the stop value and 2 is the step size"
   ]
  },
  {
   "cell_type": "code",
   "execution_count": 38,
   "id": "55de2210-866f-4288-b6e7-36d25978819c",
   "metadata": {},
   "outputs": [
    {
     "data": {
      "text/plain": [
       "array([ 0,  2,  4,  5,  5,  6,  7,  8, 12, 78, 90])"
      ]
     },
     "execution_count": 38,
     "metadata": {},
     "output_type": "execute_result"
    }
   ],
   "source": [
    "arr=np.array([2,5,8,4,6,0,7,5,12,78,90])\n",
    "np.sort(arr)"
   ]
  },
  {
   "cell_type": "code",
   "execution_count": 62,
   "id": "e53bc4ed-703d-44b3-a240-9320d6079f7b",
   "metadata": {},
   "outputs": [
    {
     "name": "stdout",
     "output_type": "stream",
     "text": [
      "[[7 7 7 7]\n",
      " [7 7 7 7]\n",
      " [7 7 7 7]\n",
      " [7 7 7 7]]\n"
     ]
    }
   ],
   "source": [
    "#exercise\n",
    "array=np.full((4,4),7)\n",
    "print(array)"
   ]
  },
  {
   "cell_type": "code",
   "execution_count": 63,
   "id": "45ca29f4-af19-4d80-acf4-fe97252769c2",
   "metadata": {},
   "outputs": [
    {
     "name": "stdout",
     "output_type": "stream",
     "text": [
      "[[0.14341726 0.64745774 0.65959745 ... 0.06000053 0.87037901 0.73525037]\n",
      " [0.56567648 0.21429859 0.30622213 ... 0.1081736  0.54036288 0.01222555]\n",
      " [0.00756545 0.26255585 0.70731589 ... 0.66286043 0.09062104 0.38419723]\n",
      " ...\n",
      " [0.82112104 0.85392374 0.65352742 ... 0.75183312 0.11805666 0.21850805]\n",
      " [0.51855925 0.98495835 0.42169055 ... 0.19520933 0.98449017 0.69510365]\n",
      " [0.64229403 0.63762333 0.3793619  ... 0.80858696 0.52470797 0.95314262]]\n"
     ]
    }
   ],
   "source": [
    "array=np.random.rand(50,100)\n",
    "print(array)"
   ]
  },
  {
   "cell_type": "code",
   "execution_count": 67,
   "id": "aa3c6b8b-6767-4f28-9e41-466e3b470ec3",
   "metadata": {},
   "outputs": [
    {
     "name": "stdout",
     "output_type": "stream",
     "text": [
      "[[ 4  5  6]\n",
      " [ 7  8  9]\n",
      " [10 11 12]]\n",
      "[[-5 -4 -3]\n",
      " [-2 -1  0]\n",
      " [ 1  2  3]]\n",
      "[[ 3  6  9]\n",
      " [12 15 18]\n",
      " [21 24 27]]\n",
      "[[0.5 1.  1.5]\n",
      " [2.  2.5 3. ]\n",
      " [3.5 4.  4.5]]\n",
      "[[  1   8  27]\n",
      " [ 64 125 216]\n",
      " [343 512 729]]\n"
     ]
    }
   ],
   "source": [
    "x=[[1,2,3],[4,5,6],[7,8,9]]\n",
    "arrayy=np.array(x)\n",
    "print(arrayy+3)\n",
    "print(arrayy-6)\n",
    "print(arrayy*3)\n",
    "print(arrayy/2)\n",
    "print(arrayy**3)"
   ]
  },
  {
   "cell_type": "code",
   "execution_count": 71,
   "id": "f7b3dc91-e0a2-45ad-958f-e1dd7be7da71",
   "metadata": {},
   "outputs": [
    {
     "name": "stdout",
     "output_type": "stream",
     "text": [
      "[ 0  0  0  0  0  0  0  0 12 78 90]\n"
     ]
    }
   ],
   "source": [
    "arr=np.array([2,5,8,4,6,0,7,5,12,78,90])\n",
    "x=np.where(arr<10,0,arr)\n",
    "print(x)"
   ]
  },
  {
   "cell_type": "code",
   "execution_count": 5,
   "id": "6005fae1-84bc-497b-8dc6-8fac40c87280",
   "metadata": {},
   "outputs": [
    {
     "name": "stdout",
     "output_type": "stream",
     "text": [
      "[[ 0  1  2  3]\n",
      " [ 4  5  6  7]\n",
      " [ 8  9 10 11]]\n"
     ]
    }
   ],
   "source": [
    "# Exercise 1: Reshape an Array\n",
    "#Create a 1D array with 12 elements using `np.arange()`, then reshape it into a 3x4 2D array.\n",
    "array=np.arange(12).reshape(3,4)\n",
    "print(array)"
   ]
  },
  {
   "cell_type": "code",
   "execution_count": 6,
   "id": "e1ef2e65-7472-46c2-8cfa-c686f9f51036",
   "metadata": {},
   "outputs": [
    {
     "name": "stdout",
     "output_type": "stream",
     "text": [
      "[[0.16424321 0.11492459 0.83524659]\n",
      " [0.37135656 0.70870831 0.91216052]]\n"
     ]
    }
   ],
   "source": [
    "### Exercise 2: Generate Random Numbers\n",
    "#Use `np.random.rand()` to create a 2x3 array filled with random numbers between 0 and 1.\n",
    "array=np.random.rand(2,3)\n",
    "print(array)"
   ]
  },
  {
   "cell_type": "code",
   "execution_count": 9,
   "id": "468b5453-afd4-4b0f-951f-71ff84ff2a2b",
   "metadata": {},
   "outputs": [
    {
     "name": "stdout",
     "output_type": "stream",
     "text": [
      "1\n",
      "9\n"
     ]
    }
   ],
   "source": [
    "### Exercise 3: Find Max and Min\n",
    "#Given the array `arr = np.array([4, 2, 9, 1, 5])`, find its maximum and minimum values.\n",
    "arr = np.array([4, 2, 9, 1, 5]).min()\n",
    "print(arr)   \n",
    "arr = np.array([4, 2, 9, 1, 5]).max()\n",
    "print(arr.max())"
   ]
  },
  {
   "cell_type": "code",
   "execution_count": 10,
   "id": "6cdc683a-9b9e-4066-9772-3dfc6731298c",
   "metadata": {},
   "outputs": [
    {
     "name": "stdout",
     "output_type": "stream",
     "text": [
      "10\n"
     ]
    }
   ],
   "source": [
    "### Exercise 4: Sum of Elements\n",
    "#Compute the total sum of all elements in the array `arr = np.array([[1, 2], [3, 4]])`.\n",
    "arr = np.array([[1, 2], [3, 4]]).sum()\n",
    "print(arr)"
   ]
  },
  {
   "cell_type": "code",
   "execution_count": 11,
   "id": "08543d45-0c22-497e-8ae5-260e09ba3662",
   "metadata": {},
   "outputs": [
    {
     "name": "stdout",
     "output_type": "stream",
     "text": [
      "[1 3 5]\n"
     ]
    }
   ],
   "source": [
    "### Exercise 5: Boolean Indexing\n",
    "#Filter out all values greater than 5 from the array `arr = np.array([1, 6, 3, 8, 5])` using boolean indexing.\n",
    "arr = np.array([1, 6, 3, 8, 5])\n",
    "filtered_arr= arr[arr<=5]\n",
    "print(filtered_arr)"
   ]
  },
  {
   "cell_type": "code",
   "execution_count": 17,
   "id": "0462970f-edaa-4b01-a402-3410832b0506",
   "metadata": {},
   "outputs": [
    {
     "name": "stdout",
     "output_type": "stream",
     "text": [
      "[5 7 9]\n"
     ]
    }
   ],
   "source": [
    "### Exercise 6: Sum Along Axis\n",
    "#For the array `arr = np.array([[1, 2, 3], [4, 5, 6]])`, compute the sum along each column.\n",
    "arr = np.array([[1, 2, 3], [4, 5, 6]])\n",
    "print(arr.sum(axis=0)) #axis=0 specifies summing along each column\n"
   ]
  },
  {
   "cell_type": "code",
   "execution_count": 26,
   "id": "6f9a6e98-86ab-4bc0-b8a2-35bb52ababdf",
   "metadata": {},
   "outputs": [
    {
     "name": "stdout",
     "output_type": "stream",
     "text": [
      "[0 0 0 4]\n"
     ]
    }
   ],
   "source": [
    "### Exercise 7: Conditional Replacement\n",
    "#Use `np.where()` to replace all values less than 0 with 0 in the array `arr = np.array([-1, -2, -3, 4])`.\n",
    "arr = np.array([-1, -2, -3, 4])\n",
    "arr=np.where(arr<0,0,arr)\n",
    "print(arr)\n"
   ]
  },
  {
   "cell_type": "code",
   "execution_count": 30,
   "id": "60c3b60f-24ee-47e3-b559-aace15fa5b72",
   "metadata": {},
   "outputs": [
    {
     "name": "stdout",
     "output_type": "stream",
     "text": [
      "[1 2 3 4 5 6]\n"
     ]
    }
   ],
   "source": [
    "### Exercise 8: Concatenate Arrays\n",
    "#Concatenate the arrays `arr1 = np.array([1, 2, 3])` and `arr2 = np.array([4, 5, 6])` horizontally (along columns).\n",
    "arr1 = np.array([1, 2, 3])\n",
    "arr2 = np.array([4, 5, 6])\n",
    "combine=np.concatenate((arr1,arr2))\n",
    "print(combine)"
   ]
  },
  {
   "cell_type": "code",
   "execution_count": 32,
   "id": "4f2fb056-b5d0-4069-aa30-58bbb0c8a1ee",
   "metadata": {},
   "outputs": [
    {
     "name": "stdout",
     "output_type": "stream",
     "text": [
      "[array([0, 1, 2, 3, 4]), array([5, 6, 7, 8, 9])]\n"
     ]
    }
   ],
   "source": [
    "### Exercise 9: Split an Array\n",
    "#Split the array `arr = np.arange(10)` into two equal parts.\n",
    "arr = np.arange(10)\n",
    "y=np.split(arr,2)\n",
    "print(y)\n"
   ]
  },
  {
   "cell_type": "code",
   "execution_count": 33,
   "id": "bb755fcc-c04a-49d4-9e7e-c8df606254f0",
   "metadata": {},
   "outputs": [
    {
     "name": "stdout",
     "output_type": "stream",
     "text": [
      "[1 2 3 4]\n"
     ]
    }
   ],
   "source": [
    "### Exercise 10: Unique Elements\n",
    "#Find the unique elements in the array `arr = np.array([1, 2, 2, 3, 3, 3, 4])`.\n",
    "arr = np.array([1, 2, 2, 3, 3, 3, 4])\n",
    "y=np.unique(arr)\n",
    "print(y)\n"
   ]
  },
  {
   "cell_type": "code",
   "execution_count": 34,
   "id": "b7eca02a-ce2c-4630-8673-db8391d1579a",
   "metadata": {},
   "outputs": [
    {
     "name": "stdout",
     "output_type": "stream",
     "text": [
      "[[ 5  7  9]\n",
      " [ 8 10 12]]\n"
     ]
    }
   ],
   "source": [
    "## Exercise 11: Broadcasting\n",
    "#Add a 1D array `arr1 = np.array([1, 2, 3])` to a 2D array `arr2 = np.array([[4, 5, 6], [7, 8, 9]])` using broadcasting.\n",
    "arr1 = np.array([1, 2, 3])\n",
    "arr2 = np.array([[4, 5, 6], [7, 8, 9]])\n",
    "broadcast=arr1+arr2\n",
    "print(broadcast)"
   ]
  },
  {
   "cell_type": "code",
   "execution_count": 39,
   "id": "465528ea-9136-489a-872a-8535df26f444",
   "metadata": {},
   "outputs": [
    {
     "name": "stdout",
     "output_type": "stream",
     "text": [
      "[1 2 3 4]\n",
      "[25  2  3  4]\n"
     ]
    }
   ],
   "source": [
    "### Exercise 12: Views vs. Copies\n",
    "#Create a view of the array `arr = np.array([1, 2, 3, 4])`, modify the view, and print both the view and the original array to observe the effect.\n",
    "arr = np.array([1, 2, 3, 4])\n",
    "copy_array=arr.copy()\n",
    "copy_array[0]=25\n",
    "print(arr)\n",
    "print(copy_array)"
   ]
  },
  {
   "cell_type": "code",
   "execution_count": 44,
   "id": "ef09c418-fb15-425e-8b2b-dc8d03baf40c",
   "metadata": {},
   "outputs": [
    {
     "name": "stdout",
     "output_type": "stream",
     "text": [
      "(3, 1)\n",
      "[[1]\n",
      " [2]\n",
      " [3]]\n"
     ]
    }
   ],
   "source": [
    "### Exercise 13: Increase Dimensions\n",
    "#Use `np.newaxis` to convert the 1D array `arr = np.array([1, 2, 3])` into a 2D array with shape (3, 1).\n",
    "arr = np.array([1, 2, 3])\n",
    "array=arr[:, np.newaxis] #adds a new dimension converting 1d array to 2d array\n",
    "print(array.shape)\n",
    "print(array)"
   ]
  },
  {
   "cell_type": "code",
   "execution_count": null,
   "id": "53921752-95db-475c-95e1-a585e80a0dfe",
   "metadata": {},
   "outputs": [],
   "source": [
    "### Exercise 14: Structured Array\n",
    "#Create a structured array with fields `name` (string, max length 10), `age` (integer), and `height` (float). Add two entries: (\"Alice\", 25, 5.5) and (\"Bob\", 30, 6.0)."
   ]
  },
  {
   "cell_type": "code",
   "execution_count": null,
   "id": "ed059734-69c5-4720-830c-051810cd976a",
   "metadata": {},
   "outputs": [],
   "source": []
  }
 ],
 "metadata": {
  "kernelspec": {
   "display_name": "Python 3 (ipykernel)",
   "language": "python",
   "name": "python3"
  },
  "language_info": {
   "codemirror_mode": {
    "name": "ipython",
    "version": 3
   },
   "file_extension": ".py",
   "mimetype": "text/x-python",
   "name": "python",
   "nbconvert_exporter": "python",
   "pygments_lexer": "ipython3",
   "version": "3.11.4"
  }
 },
 "nbformat": 4,
 "nbformat_minor": 5
}
