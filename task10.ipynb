{
 "cells": [
  {
   "cell_type": "code",
   "execution_count": null,
   "id": "0023ffaa-8b11-484c-9ed6-6845b9c4a3b9",
   "metadata": {},
   "outputs": [],
   "source": [
    "#PANDAS library(for structured data) more detailed work on pandas "
   ]
  },
  {
   "cell_type": "code",
   "execution_count": 2,
   "id": "8922ddd9-a520-448f-b920-0af2626b1da4",
   "metadata": {},
   "outputs": [],
   "source": [
    "import pandas as pd\n",
    "import numpy as np"
   ]
  },
  {
   "cell_type": "code",
   "execution_count": 3,
   "id": "a7b11cb1-73df-4a33-8a65-88b916c8225d",
   "metadata": {},
   "outputs": [
    {
     "name": "stdout",
     "output_type": "stream",
     "text": [
      "a    10\n",
      "b    20\n",
      "c    30\n",
      "d    40\n",
      "dtype: int64\n"
     ]
    }
   ],
   "source": [
    "s=pd.Series([10,20,30,40], index=['a','b', 'c', 'd'])\n",
    "print(s)"
   ]
  },
  {
   "cell_type": "code",
   "execution_count": 4,
   "id": "22a242b0-37f7-4bf7-aab6-88b17b885682",
   "metadata": {},
   "outputs": [
    {
     "name": "stdout",
     "output_type": "stream",
     "text": [
      "    name  age  rollno\n",
      "0  laiba   10       1\n",
      "1   sara   50       2\n",
      "2    ali   40       3\n"
     ]
    }
   ],
   "source": [
    "data={ 'name':['laiba', 'sara', 'ali'], 'age': [10,50,40], 'rollno':[1,2,3]} #from dictionary\n",
    "df=pd.DataFrame(data)\n",
    "print(df)\n"
   ]
  },
  {
   "cell_type": "code",
   "execution_count": 5,
   "id": "257cbc0d-6b41-498d-b2a6-8f62274467a4",
   "metadata": {},
   "outputs": [
    {
     "name": "stdout",
     "output_type": "stream",
     "text": [
      "0    laiba\n",
      "1     sara\n",
      "2      ali\n",
      "Name: name, dtype: object\n"
     ]
    }
   ],
   "source": [
    "print(df['name'])"
   ]
  },
  {
   "cell_type": "code",
   "execution_count": 93,
   "id": "77326359-69a9-485e-bfd6-248d645d081a",
   "metadata": {},
   "outputs": [
    {
     "ename": "NameError",
     "evalue": "name 'NaN' is not defined",
     "output_type": "error",
     "traceback": [
      "\u001b[31m---------------------------------------------------------------------------\u001b[39m",
      "\u001b[31mNameError\u001b[39m                                 Traceback (most recent call last)",
      "\u001b[36mCell\u001b[39m\u001b[36m \u001b[39m\u001b[32mIn[93]\u001b[39m\u001b[32m, line 2\u001b[39m\n\u001b[32m      1\u001b[39m \u001b[38;5;66;03m#task\u001b[39;00m\n\u001b[32m----> \u001b[39m\u001b[32m2\u001b[39m data= {\u001b[33m'\u001b[39m\u001b[33mstudent\u001b[39m\u001b[33m'\u001b[39m:[\u001b[33m'\u001b[39m\u001b[33mlaiba\u001b[39m\u001b[33m'\u001b[39m, \u001b[33m'\u001b[39m\u001b[33mali\u001b[39m\u001b[33m'\u001b[39m , \u001b[33m'\u001b[39m\u001b[33msara\u001b[39m\u001b[33m'\u001b[39m, \u001b[33m'\u001b[39m\u001b[33mahmad\u001b[39m\u001b[33m'\u001b[39m], \u001b[33m'\u001b[39m\u001b[33mgrade\u001b[39m\u001b[33m'\u001b[39m:[\u001b[32m100\u001b[39m, \u001b[43mNaN\u001b[49m,\u001b[32m120\u001b[39m, \u001b[32m250\u001b[39m],\u001b[33m'\u001b[39m\u001b[33mdepartment\u001b[39m\u001b[33m'\u001b[39m:[\u001b[33m'\u001b[39m\u001b[33mdcse\u001b[39m\u001b[33m'\u001b[39m, \u001b[33m'\u001b[39m\u001b[33mcivil\u001b[39m\u001b[33m'\u001b[39m, \u001b[33m'\u001b[39m\u001b[33mCS\u001b[39m\u001b[33m'\u001b[39m, \u001b[33m'\u001b[39m\u001b[33mdata science\u001b[39m\u001b[33m'\u001b[39m]}\n\u001b[32m      3\u001b[39m df= pd.DataFrame(data)\n\u001b[32m      4\u001b[39m \u001b[38;5;28mprint\u001b[39m(df)\n",
      "\u001b[31mNameError\u001b[39m: name 'NaN' is not defined"
     ]
    }
   ],
   "source": [
    "#task\n",
    "data= {'student':['laiba', 'ali' , 'sara', 'ahmad'], 'grade':[100, 80,120, 250],'department':['dcse', 'civil', 'CS', 'data science']}\n",
    "df= pd.DataFrame(data)\n",
    "print(df)"
   ]
  },
  {
   "cell_type": "code",
   "execution_count": 7,
   "id": "0e9bcbe9-5886-45d1-a136-71435b698ed2",
   "metadata": {},
   "outputs": [
    {
     "name": "stdout",
     "output_type": "stream",
     "text": [
      "0    laiba\n",
      "1      ali\n",
      "2     sara\n",
      "3    ahmad\n",
      "Name: student, dtype: object\n"
     ]
    }
   ],
   "source": [
    "print(df['student'])"
   ]
  },
  {
   "cell_type": "code",
   "execution_count": 8,
   "id": "03c16806-2e9a-4db2-b2c4-361cd64bcc67",
   "metadata": {},
   "outputs": [
    {
     "name": "stdout",
     "output_type": "stream",
     "text": [
      "  student  grade    department\n",
      "0   laiba    100          dcse\n",
      "2    sara    120            CS\n",
      "3   ahmad    250  data science\n"
     ]
    }
   ],
   "source": [
    "print(df[df['grade']>80])"
   ]
  },
  {
   "cell_type": "code",
   "execution_count": 9,
   "id": "b264340d-61de-4ede-86e7-74884833b381",
   "metadata": {},
   "outputs": [
    {
     "ename": "TypeError",
     "evalue": "'method' object is not subscriptable",
     "output_type": "error",
     "traceback": [
      "\u001b[31m---------------------------------------------------------------------------\u001b[39m",
      "\u001b[31mTypeError\u001b[39m                                 Traceback (most recent call last)",
      "\u001b[36mCell\u001b[39m\u001b[36m \u001b[39m\u001b[32mIn[9]\u001b[39m\u001b[32m, line 1\u001b[39m\n\u001b[32m----> \u001b[39m\u001b[32m1\u001b[39m \u001b[38;5;28mprint\u001b[39m(\u001b[43mdf\u001b[49m\u001b[43m.\u001b[49m\u001b[43mset_index\u001b[49m\u001b[43m[\u001b[49m\u001b[33;43m'\u001b[39;49m\u001b[33;43mstudent\u001b[39;49m\u001b[33;43m'\u001b[39;49m\u001b[43m]\u001b[49m)\n",
      "\u001b[31mTypeError\u001b[39m: 'method' object is not subscriptable"
     ]
    }
   ],
   "source": [
    "print(df.set_index['student'])"
   ]
  },
  {
   "cell_type": "code",
   "execution_count": 137,
   "id": "538e6bba-4dde-49a8-8f5d-3ddff6751f0f",
   "metadata": {},
   "outputs": [],
   "source": [
    "data = {\n",
    "'Name': ['Alice', 'Bob', 'Charlie', 'David','Alis'],\n",
    "'Age': [25, None, 35, 40,None],\n",
    "'City': ['New York', 'Los Angeles', 'Chicago', 'Houston', None]\n",
    "}\n",
    "df = pd.DataFrame(data)\n"
   ]
  },
  {
   "cell_type": "code",
   "execution_count": 138,
   "id": "13cf20c5-a21c-49bd-ad21-1f16be0f927d",
   "metadata": {},
   "outputs": [
    {
     "name": "stdout",
     "output_type": "stream",
     "text": [
      "      Name   Age      City\n",
      "0    Alice  25.0  New York\n",
      "2  Charlie  35.0   Chicago\n",
      "3    David  40.0   Houston\n"
     ]
    }
   ],
   "source": [
    "df_age=df[df['Age']>=25]\n",
    "print(df_age)"
   ]
  },
  {
   "cell_type": "code",
   "execution_count": 139,
   "id": "059e2dba-410c-4b3c-bfb7-bd925d858cc7",
   "metadata": {},
   "outputs": [
    {
     "name": "stdout",
     "output_type": "stream",
     "text": [
      "      Name   Age     City\n",
      "2  Charlie  35.0  Chicago\n"
     ]
    }
   ],
   "source": [
    "df_multiple= df[(df['Age']>=30) & (df['City']=='Chicago')]\n",
    "print(df_multiple)"
   ]
  },
  {
   "cell_type": "code",
   "execution_count": 140,
   "id": "6cd8084a-e1b7-452d-924e-9f9faf686bdb",
   "metadata": {},
   "outputs": [
    {
     "name": "stdout",
     "output_type": "stream",
     "text": [
      "    Name   Age      City\n",
      "0  Alice  25.0  New York\n",
      "3  David  40.0   Houston\n"
     ]
    }
   ],
   "source": [
    "#Using .isin() for Multiple Matches:\n",
    "names=['Alice', 'David']\n",
    "df_names=df[df['Name'].isin(names)]\n",
    "print( df_names)"
   ]
  },
  {
   "cell_type": "code",
   "execution_count": 141,
   "id": "25a39bce-5fed-4acd-979c-81fcacc1f654",
   "metadata": {},
   "outputs": [
    {
     "name": "stdout",
     "output_type": "stream",
     "text": [
      "          Age         City\n",
      "Name                      \n",
      "Alice    25.0     New York\n",
      "Bob       NaN  Los Angeles\n",
      "Charlie  35.0      Chicago\n",
      "David    40.0      Houston\n",
      "Alis      NaN         None\n"
     ]
    }
   ],
   "source": [
    "#Setting and Resetting Index\n",
    "#Using a Column as the New Index:\n",
    "df_indexed= df.set_index('Name')\n",
    "print(df_indexed)"
   ]
  },
  {
   "cell_type": "code",
   "execution_count": 142,
   "id": "e7440602-8a31-4ef9-a228-72c16973c17e",
   "metadata": {},
   "outputs": [
    {
     "name": "stdout",
     "output_type": "stream",
     "text": [
      "      Name   Age         City\n",
      "0    Alice  25.0     New York\n",
      "1      Bob   NaN  Los Angeles\n",
      "2  Charlie  35.0      Chicago\n",
      "3    David  40.0      Houston\n",
      "4     Alis   NaN         None\n"
     ]
    }
   ],
   "source": [
    "#Resetting an Index\n",
    "reset_index= df_indexed.reset_index()\n",
    "print(reset_index)"
   ]
  },
  {
   "cell_type": "code",
   "execution_count": 107,
   "id": "14343920-7eba-4817-8a9c-e661d20f094a",
   "metadata": {},
   "outputs": [
    {
     "name": "stdout",
     "output_type": "stream",
     "text": [
      "      Name     City\n",
      "2  Charlie  Chicago\n",
      "3    David  Houston\n"
     ]
    }
   ],
   "source": [
    "#Selection of a Subset of Rows and Columns\n",
    "#Combining Conditions and Column Selections\n",
    "subset= df[df['Age']>30][['Name', 'City']]\n",
    "print(subset)"
   ]
  },
  {
   "cell_type": "code",
   "execution_count": 108,
   "id": "cffbee6f-a41f-4662-9b59-ac8faa606e42",
   "metadata": {},
   "outputs": [
    {
     "name": "stdout",
     "output_type": "stream",
     "text": [
      "      Name  Age         City\n",
      "0    Alice   25     New York\n",
      "1      Bob   30  Los Angeles\n",
      "2  Charlie   35      Chicago\n",
      "3    David   40      Houston\n"
     ]
    }
   ],
   "source": [
    "#Operations on DataFrames\n",
    "'''Viewing Data:\n",
    "head()\n",
    "and\n",
    "tail()\n",
    "Viewing the Top and Bottom of a DataFrame:'''\n",
    "print(df.head())"
   ]
  },
  {
   "cell_type": "code",
   "execution_count": 109,
   "id": "91594620-0c3c-4973-8a9c-fc0123aa0a04",
   "metadata": {},
   "outputs": [
    {
     "name": "stdout",
     "output_type": "stream",
     "text": [
      "      Name  Age         City\n",
      "0    Alice   25     New York\n",
      "1      Bob   30  Los Angeles\n",
      "2  Charlie   35      Chicago\n",
      "3    David   40      Houston\n"
     ]
    }
   ],
   "source": [
    "print(df.tail())"
   ]
  },
  {
   "cell_type": "code",
   "execution_count": 110,
   "id": "de20c93b-f805-4a7c-a0a4-cb8b4faeee5e",
   "metadata": {},
   "outputs": [
    {
     "name": "stdout",
     "output_type": "stream",
     "text": [
      "    Name  Age         City\n",
      "0  Alice   25     New York\n",
      "1    Bob   30  Los Angeles\n"
     ]
    }
   ],
   "source": [
    "print(df.head(2))"
   ]
  },
  {
   "cell_type": "code",
   "execution_count": 111,
   "id": "267791af-8db0-4362-91c8-29687a69ae58",
   "metadata": {},
   "outputs": [
    {
     "name": "stdout",
     "output_type": "stream",
     "text": [
      "      Name  Age     City\n",
      "2  Charlie   35  Chicago\n",
      "3    David   40  Houston\n"
     ]
    }
   ],
   "source": [
    "print(df.tail(2))"
   ]
  },
  {
   "cell_type": "code",
   "execution_count": 112,
   "id": "78f1cc88-12e9-4917-ae99-f2d99df0f7f5",
   "metadata": {},
   "outputs": [
    {
     "name": "stdout",
     "output_type": "stream",
     "text": [
      "['New York' 'Los Angeles' 'Chicago' 'Houston']\n"
     ]
    }
   ],
   "source": [
    "#unique()and value_counts()\n",
    "#Unique Entries in a Column:\n",
    "unique_value=df['City'].unique()\n",
    "print(unique_value)"
   ]
  },
  {
   "cell_type": "code",
   "execution_count": 113,
   "id": "dd589eef-926f-46b7-87f2-7225b55d0092",
   "metadata": {},
   "outputs": [
    {
     "name": "stdout",
     "output_type": "stream",
     "text": [
      "City\n",
      "New York       1\n",
      "Los Angeles    1\n",
      "Chicago        1\n",
      "Houston        1\n",
      "Name: count, dtype: int64\n"
     ]
    }
   ],
   "source": [
    "#Value Counts\n",
    "#Counting Occurrences:\n",
    "value_count=df['City'].value_counts()\n",
    "print(value_count)"
   ]
  },
  {
   "cell_type": "code",
   "execution_count": 114,
   "id": "c926eaaa-6c5c-41d9-b6ff-f9df54770b79",
   "metadata": {},
   "outputs": [
    {
     "name": "stdout",
     "output_type": "stream",
     "text": [
      "City\n",
      "New York       0.25\n",
      "Los Angeles    0.25\n",
      "Chicago        0.25\n",
      "Houston        0.25\n",
      "Name: proportion, dtype: float64\n"
     ]
    }
   ],
   "source": [
    "#Value Counts with Normalization:\n",
    "count_normalized=df['City'].value_counts(normalize=True)\n",
    "print(count_normalized)"
   ]
  },
  {
   "cell_type": "code",
   "execution_count": 115,
   "id": "0fa63f7b-fc83-4120-93cf-479245652662",
   "metadata": {},
   "outputs": [
    {
     "name": "stdout",
     "output_type": "stream",
     "text": [
      "['Name', 'Age', 'City']\n"
     ]
    }
   ],
   "source": [
    "#4.4 Getting Column and Index Names\n",
    "#Retrieving Column Names:\n",
    "columns=df.columns.tolist()\n",
    "print(columns)"
   ]
  },
  {
   "cell_type": "code",
   "execution_count": 116,
   "id": "ad519d6e-78c6-4b7b-a994-dfe7cf59f9c3",
   "metadata": {},
   "outputs": [
    {
     "name": "stdout",
     "output_type": "stream",
     "text": [
      "[0, 1, 2, 3]\n"
     ]
    }
   ],
   "source": [
    "#Retrieving Index Values:\n",
    "indexes=df.index.tolist()\n",
    "print(indexes)"
   ]
  },
  {
   "cell_type": "code",
   "execution_count": 117,
   "id": "7fefb64f-9b9b-4149-ac4f-3ade5f08ddfc",
   "metadata": {},
   "outputs": [
    {
     "name": "stdout",
     "output_type": "stream",
     "text": [
      "      Name  Age         City\n",
      "0    Alice   25     New York\n",
      "1      Bob   30  Los Angeles\n",
      "2  Charlie   35      Chicago\n",
      "3    David   40      Houston\n"
     ]
    }
   ],
   "source": [
    "#4.5 Sorting and Ordering\n",
    "#Sorting by a Single Column\n",
    "sorted=df.sort_values(by='Age')\n",
    "print(sorted)"
   ]
  },
  {
   "cell_type": "code",
   "execution_count": 118,
   "id": "ae6e8809-9cee-48c4-a834-ddaac04032d3",
   "metadata": {},
   "outputs": [
    {
     "name": "stdout",
     "output_type": "stream",
     "text": [
      "      Name  Age         City\n",
      "2  Charlie   35      Chicago\n",
      "3    David   40      Houston\n",
      "1      Bob   30  Los Angeles\n",
      "0    Alice   25     New York\n"
     ]
    }
   ],
   "source": [
    "#Sorting by 'City' then 'Age':\n",
    "sorted_multiple= df.sort_values(by=['City', 'Age'], ascending=[True, False])\n",
    "print(sorted_multiple)"
   ]
  },
  {
   "cell_type": "code",
   "execution_count": 119,
   "id": "0a1daebb-8471-4a9a-803d-355602141008",
   "metadata": {},
   "outputs": [
    {
     "name": "stdout",
     "output_type": "stream",
     "text": [
      "      Name  Age         City Salary\n",
      "0    Alice   25     New York    NaN\n",
      "1      Bob   30  Los Angeles   None\n",
      "2  Charlie   35      Chicago    NaN\n",
      "3    David   40      Houston    NaN\n"
     ]
    }
   ],
   "source": [
    "#Sorting with Missing Values\n",
    "df.loc[1, 'Salary']=None\n",
    "df_sorted=df.sort_values(by='Salary', na_position='first')\n",
    "print(df_sorted)"
   ]
  },
  {
   "cell_type": "code",
   "execution_count": 120,
   "id": "d8cc00e0-25af-4609-8413-2a59e521ea9a",
   "metadata": {},
   "outputs": [
    {
     "name": "stdout",
     "output_type": "stream",
     "text": [
      "    Name    Age   City  Salary\n",
      "0  False  False  False    True\n",
      "1  False  False  False    True\n",
      "2  False  False  False    True\n",
      "3  False  False  False    True\n"
     ]
    }
   ],
   "source": [
    "#Handling Null Values\n",
    "#Checking for Null Values\n",
    "#Detecting Missing Data:\n",
    "null_values=df.isnull()\n",
    "print(null_values)"
   ]
  },
  {
   "cell_type": "code",
   "execution_count": 121,
   "id": "91983eb9-bbe3-4785-84d0-396387792a3b",
   "metadata": {},
   "outputs": [
    {
     "name": "stdout",
     "output_type": "stream",
     "text": [
      "\n",
      "Count of missing values per column:\n",
      "Name      0\n",
      "Age       0\n",
      "City      0\n",
      "Salary    4\n",
      "dtype: int64\n"
     ]
    }
   ],
   "source": [
    "#Summing Null Values by Column:\n",
    "null_values=df.isnull().sum()\n",
    "print(\"\\nCount of missing values per column:\")\n",
    "print(null_values)"
   ]
  },
  {
   "cell_type": "code",
   "execution_count": 122,
   "id": "2839ae7f-a0e7-42c2-81e7-bd138026a5fd",
   "metadata": {},
   "outputs": [
    {
     "name": "stdout",
     "output_type": "stream",
     "text": [
      "      Name  Age         City Salary\n",
      "0    Alice   25     New York    NaN\n",
      "1      Bob   30  Los Angeles   None\n",
      "2  Charlie   35      Chicago    NaN\n",
      "3    David   40      Houston    NaN\n"
     ]
    }
   ],
   "source": [
    "#4.7 Replacing Values\n",
    "#Filling Missing Values\n",
    "#Filling with the Mean Value (for numeric columns):\n",
    "df['Age']=df['Age'].fillna(df['Age'].mean())\n",
    "print(df)\n"
   ]
  },
  {
   "cell_type": "code",
   "execution_count": 143,
   "id": "83f0e93b-c52d-417e-b799-b9d878ba527d",
   "metadata": {},
   "outputs": [
    {
     "name": "stdout",
     "output_type": "stream",
     "text": [
      "      Name   Age         City\n",
      "0    Alice  25.0     New York\n",
      "1      Bob   NaN  Los Angeles\n",
      "2  Charlie  35.0      Chicago\n",
      "3    David  40.0        China\n",
      "4     Alis   NaN         None\n"
     ]
    }
   ],
   "source": [
    "#Replacing Specifi c Values:\n",
    "df['City']=df['City'].replace('Houston', 'China')\n",
    "print(df)"
   ]
  },
  {
   "cell_type": "code",
   "execution_count": 124,
   "id": "5427f516-7259-44ed-a580-f44d173aded6",
   "metadata": {},
   "outputs": [
    {
     "data": {
      "text/plain": [
       "\"df_dropped= df.drop(columns=['Salary'])\\nprint(df_dropped)\""
      ]
     },
     "execution_count": 124,
     "metadata": {},
     "output_type": "execute_result"
    }
   ],
   "source": [
    "#4.8 Dropping Rows and Columns\n",
    "#Dropping Columns\n",
    "'''df_dropped= df.drop(columns=['Salary'])\n",
    "print(df_dropped)'''"
   ]
  },
  {
   "cell_type": "code",
   "execution_count": 144,
   "id": "9a1d5595-b1ba-439b-8a6e-a4054e3c394a",
   "metadata": {},
   "outputs": [
    {
     "name": "stdout",
     "output_type": "stream",
     "text": [
      "\n",
      "DataFrame after dropping rows with missing values:\n",
      "      Name   Age      City\n",
      "0    Alice  25.0  New York\n",
      "2  Charlie  35.0   Chicago\n",
      "3    David  40.0     China\n"
     ]
    }
   ],
   "source": [
    "#Dropping Rows with Missing Values:\n",
    "drop_rows=df.dropna()\n",
    "print(\"\\nDataFrame after dropping rows with missing values:\")\n",
    "print(drop_rows)"
   ]
  },
  {
   "cell_type": "code",
   "execution_count": 148,
   "id": "5caf8b10-0983-46e2-9af5-ffbb0b29d743",
   "metadata": {},
   "outputs": [
    {
     "name": "stdout",
     "output_type": "stream",
     "text": [
      "      Name   Age         City\n",
      "0    Alice  25.0     New York\n",
      "1      Bob   NaN  Los Angeles\n",
      "2  Charlie  35.0      Chicago\n",
      "3    David  40.0        China\n",
      "4     Alis   NaN         None\n"
     ]
    }
   ],
   "source": [
    "#Dropping a Row by Index:\n",
    "df_dropped=df.drop(index=1)\n",
    "print(df)"
   ]
  },
  {
   "cell_type": "code",
   "execution_count": 149,
   "id": "1933f1cc-93e0-499f-ab1b-29dd81b8b471",
   "metadata": {},
   "outputs": [
    {
     "name": "stdout",
     "output_type": "stream",
     "text": [
      "    Name    Age   City\n",
      "0  False  False  False\n",
      "1  False   True  False\n",
      "2  False  False  False\n",
      "3  False  False  False\n",
      "4  False   True   True\n"
     ]
    }
   ],
   "source": [
    "#5. Missing Data & Its Handling\n",
    "#5.1 Detecting Missing Data\n",
    "#Using isnull() andnotnull()\n",
    "missing=df.isnull()\n",
    "print(missing)"
   ]
  },
  {
   "cell_type": "code",
   "execution_count": 150,
   "id": "44d44633-2c86-4937-b1d4-389622192f48",
   "metadata": {},
   "outputs": [
    {
     "name": "stdout",
     "output_type": "stream",
     "text": [
      "   Name    Age   City\n",
      "0  True   True   True\n",
      "1  True  False   True\n",
      "2  True   True   True\n",
      "3  True   True   True\n",
      "4  True  False  False\n"
     ]
    }
   ],
   "source": [
    "notmissing=df.notnull()\n",
    "print(notmissing)"
   ]
  },
  {
   "cell_type": "code",
   "execution_count": 151,
   "id": "9f31cdb9-8677-417f-b31e-a8cd4a3ece13",
   "metadata": {},
   "outputs": [
    {
     "name": "stdout",
     "output_type": "stream",
     "text": [
      "      Name   Age      City\n",
      "0    Alice  25.0  New York\n",
      "2  Charlie  35.0   Chicago\n",
      "3    David  40.0     China\n",
      "      Name\n",
      "0    Alice\n",
      "1      Bob\n",
      "2  Charlie\n",
      "3    David\n",
      "4     Alis\n"
     ]
    }
   ],
   "source": [
    "#5.2 Handling Missing Data\n",
    "#Dropping Missing Data\n",
    "##Drop rows if any column is missing:\n",
    "dropping=df.dropna()\n",
    "print(dropping)\n",
    "#Drop columns with any missing values:\n",
    "dropping_cols=df.dropna(axis=1)\n",
    "print(dropping_cols)"
   ]
  },
  {
   "cell_type": "code",
   "execution_count": 152,
   "id": "b921bf7b-3e19-4de1-829f-8b9772f452f0",
   "metadata": {},
   "outputs": [
    {
     "name": "stdout",
     "output_type": "stream",
     "text": [
      "      Name   Age         City\n",
      "0    Alice  25.0     New York\n",
      "1      Bob   0.0  Los Angeles\n",
      "2  Charlie  35.0      Chicago\n",
      "3    David  40.0        China\n",
      "4     Alis   0.0         None\n"
     ]
    }
   ],
   "source": [
    "#Filling Missing Data\n",
    "#Fill with a Constant Value:\n",
    "df_fill_const=df.fillna(value={'Age':0 , 'Salary':5000})\n",
    "print(df_fill_const)"
   ]
  },
  {
   "cell_type": "code",
   "execution_count": 153,
   "id": "f35cee67-5e77-4c1f-b433-9536014e2251",
   "metadata": {},
   "outputs": [
    {
     "name": "stdout",
     "output_type": "stream",
     "text": [
      "      Name   Age         City\n",
      "0    Alice  25.0     New York\n",
      "1      Bob  25.0  Los Angeles\n",
      "2  Charlie  35.0      Chicago\n",
      "3    David  40.0        China\n",
      "4     Alis  40.0        China\n"
     ]
    }
   ],
   "source": [
    "#Forward-fill and Backward-fill:\n",
    "#df_ffill=df.fillna(method='ffill')\n",
    "#print(df_ffill)\n",
    "df_fill = df.ffill() #Replaces missing values with the previous non-null value\n",
    "print(df_fill)"
   ]
  },
  {
   "cell_type": "code",
   "execution_count": 156,
   "id": "c9b3ad79-d5cd-45f4-b962-90e472ffdbf4",
   "metadata": {},
   "outputs": [
    {
     "name": "stdout",
     "output_type": "stream",
     "text": [
      "      Name   Age         City\n",
      "0    Alice  25.0     New York\n",
      "1      Bob  35.0  Los Angeles\n",
      "2  Charlie  35.0      Chicago\n",
      "3    David  40.0        China\n",
      "4     Alis  35.0         None\n"
     ]
    }
   ],
   "source": [
    "df_bfill = df.bfill()\n",
    "print(df_bfill)       #Replaces missing values with the next non-null value"
   ]
  },
  {
   "cell_type": "code",
   "execution_count": 159,
   "id": "d33cb04b-0367-4781-8ee7-432dc220474c",
   "metadata": {},
   "outputs": [
    {
     "name": "stdout",
     "output_type": "stream",
     "text": [
      "      Name   Age         City\n",
      "0    Alice  25.0     New York\n",
      "1      Bob  35.0  Los Angeles\n",
      "2  Charlie  35.0      Chicago\n",
      "3    David  40.0        China\n",
      "4     Alis  35.0      Chicago\n"
     ]
    }
   ],
   "source": [
    "#5.3 Advanced Techniques\n",
    "#Combining Multiple Methods:\n",
    "for column in df.columns:\n",
    "    if df[column].dtype in ['float64', 'int64']:\n",
    "      df[column]= df[column].fillna(df[column].median())\n",
    "    else:\n",
    "      df[column]= df[column].fillna(df[column].mode()[0])\n",
    "print(df)"
   ]
  },
  {
   "cell_type": "code",
   "execution_count": null,
   "id": "89384a2a-092a-4979-a571-9a87f988c74e",
   "metadata": {},
   "outputs": [],
   "source": []
  },
  {
   "cell_type": "code",
   "execution_count": null,
   "id": "dae7542b-3360-4d0e-93c7-e02f9e405f40",
   "metadata": {},
   "outputs": [],
   "source": []
  }
 ],
 "metadata": {
  "kernelspec": {
   "display_name": "Python 3 (ipykernel)",
   "language": "python",
   "name": "python3"
  },
  "language_info": {
   "codemirror_mode": {
    "name": "ipython",
    "version": 3
   },
   "file_extension": ".py",
   "mimetype": "text/x-python",
   "name": "python",
   "nbconvert_exporter": "python",
   "pygments_lexer": "ipython3",
   "version": "3.11.4"
  }
 },
 "nbformat": 4,
 "nbformat_minor": 5
}
