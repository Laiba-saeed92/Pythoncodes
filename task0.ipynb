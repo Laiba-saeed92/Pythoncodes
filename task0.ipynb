{
 "cells": [
  {
   "cell_type": "code",
   "execution_count": 10,
   "id": "370a8269-4dcf-4460-a570-afe83ad24356",
   "metadata": {},
   "outputs": [
    {
     "name": "stdout",
     "output_type": "stream",
     "text": [
      "i am python\n",
      "11\n",
      "2\n"
     ]
    },
    {
     "data": {
      "text/plain": [
       "1"
      ]
     },
     "execution_count": 10,
     "metadata": {},
     "output_type": "execute_result"
    }
   ],
   "source": [
    "#case manupulation\n",
    "text='i am python'\n",
    "print(text)\n",
    "print(len(text))\n",
    "print(text.find('am'))\n",
    "text.count('n')\n"
   ]
  },
  {
   "cell_type": "code",
   "execution_count": 23,
   "id": "ec7c618d-5c15-4465-b3eb-a84a991ea8d1",
   "metadata": {},
   "outputs": [
    {
     "name": "stdout",
     "output_type": "stream",
     "text": [
      "AM\n",
      "I Am Python\n",
      "I\n",
      "hello\n",
      "hello   \n",
      "  hello\n"
     ]
    }
   ],
   "source": [
    "text='i am python'\n",
    "print('am'.upper())\n",
    "print('i am python'.title())\n",
    "print('i'.capitalize())\n",
    "text='  hello   '\n",
    "print(text.strip())\n",
    "print(text.lstrip())\n",
    "print(text.rstrip())\n",
    "\n"
   ]
  },
  {
   "cell_type": "code",
   "execution_count": 31,
   "id": "c4e6e2b1-993a-444f-a65c-63e8bb89f71c",
   "metadata": {},
   "outputs": [
    {
     "name": "stdout",
     "output_type": "stream",
     "text": [
      "False\n",
      "True\n",
      "True\n",
      "True\n",
      "True\n"
     ]
    }
   ],
   "source": [
    "#checking string content\n",
    "text= 'HELLO123'\n",
    "text.isalpha()\n",
    "text.isdigit()\n",
    "print(text.isalpha())\n",
    "print('HELLO'.isalpha())\n",
    "print('123'.isdigit())\n",
    "print('123'.isalnum())\n",
    "print('HELLO'.isalpha())"
   ]
  },
  {
   "cell_type": "code",
   "execution_count": 44,
   "id": "d2e22893-1c27-49e5-b1f0-2fc4069028da",
   "metadata": {},
   "outputs": [
    {
     "name": "stdout",
     "output_type": "stream",
     "text": [
      "['apple', ' banana', ' gauva']\n"
     ]
    },
    {
     "data": {
      "text/plain": [
       "'i love dogs very much'"
      ]
     },
     "execution_count": 44,
     "metadata": {},
     "output_type": "execute_result"
    }
   ],
   "source": [
    "#rsplit and join\n",
    "fruits= 'apple, banana, gauva'\n",
    "new=fruits.split(',')\n",
    "print(new)\n",
    "\"-\".join(new)\n",
    "#replace substrings\n",
    "new= 'i love cats very much'\n",
    "new.replace('cats' , 'dogs')"
   ]
  },
  {
   "cell_type": "code",
   "execution_count": 53,
   "id": "4d48f437-6e6f-4048-a6d2-6a3c4ec4b057",
   "metadata": {},
   "outputs": [
    {
     "name": "stdout",
     "output_type": "stream",
     "text": [
      " Alice  is 25\n",
      "Hello\n",
      "Laiba\n",
      "LAIBA\n"
     ]
    }
   ],
   "source": [
    "#using f strings\n",
    "name = \" Alice \"\n",
    "age = 25\n",
    "print (f\"{ name } is {age}\")\n",
    "#checking substrings\n",
    "name=' hello my name is laiba Saeed'\n",
    "'laiba' in name\n",
    "'awan' in name\n",
    "'awan' not in name\n",
    "print('hello'.capitalize())\n",
    "print('laiba'.title())\n",
    "print('laiba'.upper())"
   ]
  },
  {
   "cell_type": "code",
   "execution_count": 62,
   "id": "9bf171b1-266a-4c17-bda2-337a73fbfc3e",
   "metadata": {},
   "outputs": [
    {
     "name": "stdout",
     "output_type": "stream",
     "text": [
      "python^^^^^^^^^\n",
      "---------python\n",
      ".....python....\n",
      "*****python****\n"
     ]
    },
    {
     "data": {
      "text/plain": [
       "'0000000045'"
      ]
     },
     "execution_count": 62,
     "metadata": {},
     "output_type": "execute_result"
    }
   ],
   "source": [
    "#string allignment\n",
    "name= 'python'\n",
    "print(name.ljust(15, '^'))\n",
    "print(name.rjust(15, '-'))\n",
    "print(name.center(15, '.'))\n",
    "print(name.center(15, '*'))\n",
    "#padding\n",
    "'45'.zfill(10)"
   ]
  },
  {
   "cell_type": "code",
   "execution_count": 67,
   "id": "ac526f1e-4eca-4078-b932-6e180f77ec77",
   "metadata": {},
   "outputs": [
    {
     "name": "stdin",
     "output_type": "stream",
     "text": [
      "enter your name laiba\n",
      "age 25\n"
     ]
    },
    {
     "name": "stdout",
     "output_type": "stream",
     "text": [
      "my name is laiba and my age is 25 years old\n"
     ]
    }
   ],
   "source": [
    "#using input to get user input and input always return a string\n",
    "name= input('enter your name')\n",
    "age=input('age')\n",
    "print(f'my name is {name} and my age is {age} years old')"
   ]
  },
  {
   "cell_type": "code",
   "execution_count": 73,
   "id": "8ac0d9b3-c048-4339-90a3-94d756aea4a4",
   "metadata": {},
   "outputs": [
    {
     "name": "stdin",
     "output_type": "stream",
     "text": [
      "The score is 4556\n"
     ]
    },
    {
     "name": "stdout",
     "output_type": "stream",
     "text": [
      "4556\n",
      "4566\n"
     ]
    }
   ],
   "source": [
    "#type casting int,float,str,bool\n",
    "score= input('The score is')\n",
    "x=int(score)\n",
    "print(x)\n",
    "print(x+10)"
   ]
  },
  {
   "cell_type": "code",
   "execution_count": 79,
   "id": "eccb1a31-1620-496d-a4ca-13bd3642b45c",
   "metadata": {},
   "outputs": [
    {
     "name": "stdin",
     "output_type": "stream",
     "text": [
      "Enter ur birth year  2002\n"
     ]
    },
    {
     "name": "stdout",
     "output_type": "stream",
     "text": [
      "your age is 23\n"
     ]
    }
   ],
   "source": [
    "#combine input ,casting \n",
    "age= input('Enter ur birth year ')\n",
    "#int(age) type casting\n",
    "current_year=2025\n",
    "x=current_year- int(age)\n",
    "print(f'your age is {x}')"
   ]
  },
  {
   "cell_type": "code",
   "execution_count": null,
   "id": "8ec40c0d-784f-492a-98c7-647daca4e365",
   "metadata": {},
   "outputs": [],
   "source": []
  }
 ],
 "metadata": {
  "kernelspec": {
   "display_name": "Python 3 (ipykernel)",
   "language": "python",
   "name": "python3"
  },
  "language_info": {
   "codemirror_mode": {
    "name": "ipython",
    "version": 3
   },
   "file_extension": ".py",
   "mimetype": "text/x-python",
   "name": "python",
   "nbconvert_exporter": "python",
   "pygments_lexer": "ipython3",
   "version": "3.11.4"
  }
 },
 "nbformat": 4,
 "nbformat_minor": 5
}
